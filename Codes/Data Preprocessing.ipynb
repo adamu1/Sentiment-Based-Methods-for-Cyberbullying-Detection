{
 "cells": [
  {
   "cell_type": "code",
   "execution_count": 1,
   "metadata": {
    "id": "TKTziNf2eq_j"
   },
   "outputs": [],
   "source": [
    "import numpy as np\n",
    "import pandas as pd\n",
    "from sklearn.model_selection import train_test_split\n",
    "import re\n",
    "from matplotlib import pyplot as plt\n",
    "import nltk\n",
    "from nltk.tokenize import RegexpTokenizer\n",
    "from nltk.stem import WordNetLemmatizer\n",
    "from nltk.corpus import stopwords\n",
    "import string\n",
    "import unicodedata"
   ]
  },
  {
   "cell_type": "code",
   "execution_count": 2,
   "metadata": {
    "id": "I52HikOxoXDh"
   },
   "outputs": [],
   "source": [
    "#! sudo apt install openjdk-8-jdk\n",
    "#! sudo update-alternatives --set java /usr/lib/jvm/java-8-openjdk-amd64/jre/bin/java\n",
    "#! pip install language-check\n",
    "#! pip install pycontractions"
   ]
  },
  {
   "cell_type": "code",
   "execution_count": 3,
   "metadata": {
    "id": "wgUmGStToZhZ"
   },
   "outputs": [],
   "source": [
    "#from pycontractions import Contractions"
   ]
  },
  {
   "cell_type": "code",
   "execution_count": 4,
   "metadata": {
    "id": "y_7oAsQjqU3s"
   },
   "outputs": [],
   "source": [
    "#pip install autocorrect"
   ]
  },
  {
   "cell_type": "code",
   "execution_count": 5,
   "metadata": {
    "id": "ksgf1FsDerB8"
   },
   "outputs": [
    {
     "name": "stderr",
     "output_type": "stream",
     "text": [
      "[nltk_data] Error loading stopwords: Remote end closed connection\n",
      "[nltk_data]     without response\n",
      "[nltk_data] Downloading package wordnet to\n",
      "[nltk_data]     C:\\Users\\phili\\AppData\\Roaming\\nltk_data...\n",
      "[nltk_data]   Package wordnet is already up-to-date!\n",
      "[nltk_data] Downloading package punkt to\n",
      "[nltk_data]     C:\\Users\\phili\\AppData\\Roaming\\nltk_data...\n",
      "[nltk_data]   Package punkt is already up-to-date!\n"
     ]
    },
    {
     "data": {
      "text/plain": [
       "True"
      ]
     },
     "execution_count": 5,
     "metadata": {},
     "output_type": "execute_result"
    }
   ],
   "source": [
    "nltk.download('stopwords')\n",
    "nltk.download('wordnet')\n",
    "nltk.download('punkt')"
   ]
  },
  {
   "cell_type": "code",
   "execution_count": 6,
   "metadata": {
    "id": "cVqcGbW_erET"
   },
   "outputs": [],
   "source": [
    "#df = pd.read_csv(\"../Datasets/train.csv\")"
   ]
  },
  {
   "cell_type": "code",
   "execution_count": 7,
   "metadata": {
    "id": "N9na9PIWsAgT"
   },
   "outputs": [],
   "source": [
    "df = pd.read_csv(\"../Datasets/Amazon_Updated.csv\", encoding=\"ISO-8859-1\")"
   ]
  },
  {
   "cell_type": "code",
   "execution_count": 8,
   "metadata": {
    "colab": {
     "base_uri": "https://localhost:8080/",
     "height": 402
    },
    "executionInfo": {
     "elapsed": 590,
     "status": "ok",
     "timestamp": 1607679866544,
     "user": {
      "displayName": "Rohith Teja",
      "photoUrl": "https://lh3.googleusercontent.com/-nt8x4joQmgY/AAAAAAAAAAI/AAAAAAAAAvg/AbgIIUozOq0/s64/photo.jpg",
      "userId": "01155222072916958278"
     },
     "user_tz": -60
    },
    "id": "Xf0Zc7I5erG8",
    "outputId": "f9b4a71a-1d12-4b47-d6f4-58c3a2fb52b9"
   },
   "outputs": [
    {
     "data": {
      "text/html": [
       "<div>\n",
       "<style scoped>\n",
       "    .dataframe tbody tr th:only-of-type {\n",
       "        vertical-align: middle;\n",
       "    }\n",
       "\n",
       "    .dataframe tbody tr th {\n",
       "        vertical-align: top;\n",
       "    }\n",
       "\n",
       "    .dataframe thead th {\n",
       "        text-align: right;\n",
       "    }\n",
       "</style>\n",
       "<table border=\"1\" class=\"dataframe\">\n",
       "  <thead>\n",
       "    <tr style=\"text-align: right;\">\n",
       "      <th></th>\n",
       "      <th>sentiment</th>\n",
       "      <th>text</th>\n",
       "    </tr>\n",
       "  </thead>\n",
       "  <tbody>\n",
       "    <tr>\n",
       "      <th>0</th>\n",
       "      <td>positive</td>\n",
       "      <td>My lovely Pat has one of the GREAT voices of h...</td>\n",
       "    </tr>\n",
       "    <tr>\n",
       "      <th>1</th>\n",
       "      <td>positive</td>\n",
       "      <td>Despite the fact that I have only played a sma...</td>\n",
       "    </tr>\n",
       "    <tr>\n",
       "      <th>2</th>\n",
       "      <td>negative</td>\n",
       "      <td>I bought this charger in Jul 2003 and it worke...</td>\n",
       "    </tr>\n",
       "    <tr>\n",
       "      <th>3</th>\n",
       "      <td>positive</td>\n",
       "      <td>Check out Maha Energy's website. Their Powerex...</td>\n",
       "    </tr>\n",
       "    <tr>\n",
       "      <th>4</th>\n",
       "      <td>positive</td>\n",
       "      <td>Reviewed quite a bit of the combo players and ...</td>\n",
       "    </tr>\n",
       "    <tr>\n",
       "      <th>...</th>\n",
       "      <td>...</td>\n",
       "      <td>...</td>\n",
       "    </tr>\n",
       "    <tr>\n",
       "      <th>41404</th>\n",
       "      <td>positive</td>\n",
       "      <td>Tea Tree Shampoo is my favorite. I usually get...</td>\n",
       "    </tr>\n",
       "    <tr>\n",
       "      <th>41405</th>\n",
       "      <td>positive</td>\n",
       "      <td>Admittedly, I am not a country music fan. Howe...</td>\n",
       "    </tr>\n",
       "    <tr>\n",
       "      <th>41406</th>\n",
       "      <td>positive</td>\n",
       "      <td>I try to listen to something new everyday and ...</td>\n",
       "    </tr>\n",
       "    <tr>\n",
       "      <th>41407</th>\n",
       "      <td>negative</td>\n",
       "      <td>I bought this to go inside of the enclosed woo...</td>\n",
       "    </tr>\n",
       "    <tr>\n",
       "      <th>41408</th>\n",
       "      <td>negative</td>\n",
       "      <td>Terribly disappointing that she has left the a...</td>\n",
       "    </tr>\n",
       "  </tbody>\n",
       "</table>\n",
       "<p>41409 rows × 2 columns</p>\n",
       "</div>"
      ],
      "text/plain": [
       "      sentiment                                               text\n",
       "0      positive  My lovely Pat has one of the GREAT voices of h...\n",
       "1      positive  Despite the fact that I have only played a sma...\n",
       "2      negative  I bought this charger in Jul 2003 and it worke...\n",
       "3      positive  Check out Maha Energy's website. Their Powerex...\n",
       "4      positive  Reviewed quite a bit of the combo players and ...\n",
       "...         ...                                                ...\n",
       "41404  positive  Tea Tree Shampoo is my favorite. I usually get...\n",
       "41405  positive  Admittedly, I am not a country music fan. Howe...\n",
       "41406  positive  I try to listen to something new everyday and ...\n",
       "41407  negative  I bought this to go inside of the enclosed woo...\n",
       "41408  negative  Terribly disappointing that she has left the a...\n",
       "\n",
       "[41409 rows x 2 columns]"
      ]
     },
     "execution_count": 8,
     "metadata": {},
     "output_type": "execute_result"
    }
   ],
   "source": [
    "df"
   ]
  },
  {
   "cell_type": "code",
   "execution_count": 9,
   "metadata": {
    "id": "ePNBm7GyerNe"
   },
   "outputs": [],
   "source": [
    "url = r'''(?i)\\b((?:https?://|www\\d{0,3}[.]|[a-z0-9.\\-]+[.][a-z]{2,4}/)(?:[^\\s()<>]+|\\(([^\\s()<>]+|(\\([^\\s()<>]+\\)))*\\))+(?:\\(([^\\s()<>]+|(\\([^\\s()<>]+\\)))*\\)|[^\\s`!()\\[\\]{};:'\".,<>?«»“”‘’]))'''"
   ]
  },
  {
   "cell_type": "code",
   "execution_count": 10,
   "metadata": {
    "id": "oqo-1H6S7ZtW"
   },
   "outputs": [],
   "source": [
    "#for text\r",
    "#\r\n",
    "df.text = df.text.map(lambda x:str(x).lower()) #lower cas#e\r\n",
    "df.text = df.text.map(lambda x:re.sub(r\"\\b[^\\s]+@[^\\s]+[.][^\\s]+\\b\", \"\", x)) #ema#il\r\n",
    "df.text = df.text.map(lambda x:re.sub(url, \"\", x)) ##url\r\n",
    "df.text = df.text.map(lambda x:re.sub(r'[^a-zA-z.,!?/:;\\\"\\'\\s]', \"\", x)) #num#bers\r\n",
    "df.text = df.text.map(lambda x:re.sub(r'^\\s*|\\s\\s*', ' ', x).strip()) #white #space\r\n",
    "df.text = df.text.map(lambda x:''.join([c for c in x if c not in string.punctuation])) #punctu#ations\r\n",
    "df.text = df.text.map(lambda x:re.sub(r'[^a-zA-z0-9.,!?/:;\\\"\\'\\s]', '', x)) #speci#al char\r\n",
    "df.text = df.text.map(lambda x:unicodedata.normalize('NFKD', x).encode('ascii', 'ignore').decode('utf-8', 'ignore')) #unicode"
   ]
  },
  {
   "cell_type": "code",
   "execution_count": 11,
   "metadata": {
    "id": "_CMf_Ip1LMat"
   },
   "outputs": [],
   "source": [
    "#for selected_text\n",
    "\n",
    "#df.selected_text = df.selected_text.map(lambda x:str(x).lower()) #lower case\n",
    "#df.selected_text = df.selected_text.map(lambda x:re.sub(r\"\\b[^\\s]+@[^\\s]+[.][^\\s]+\\b\", \"\", x)) #email\n",
    "#df.selected_text = df.selected_text.map(lambda x:re.sub(url, \"\", x)) #url\n",
    "#df.selected_text = df.selected_text.map(lambda x:re.sub(r'[^a-zA-z.,!?/:;\\\"\\'\\s]', \"\", x)) #numbers\n",
    "#df.selected_text = df.selected_text.map(lambda x:re.sub(r'^\\s*|\\s\\s*', ' ', x).strip()) #white space\n",
    "#df.selected_text = df.selected_text.map(lambda x:''.join([c for c in x if c not in string.punctuation])) #punctuations\n",
    "#df.selected_text = df.selected_text.map(lambda x:re.sub(r'[^a-zA-z0-9.,!?/:;\\\"\\'\\s]', '', x)) #special char\n",
    "#df.selected_text = df.selected_text.map(lambda x:unicodedata.normalize('NFKD', x).encode('ascii', 'ignore').decode('utf-8', 'ignore')) #unicode #unicode"
   ]
  },
  {
   "cell_type": "code",
   "execution_count": 12,
   "metadata": {
    "colab": {
     "base_uri": "https://localhost:8080/",
     "height": 402
    },
    "executionInfo": {
     "elapsed": 863,
     "status": "ok",
     "timestamp": 1607679897526,
     "user": {
      "displayName": "Rohith Teja",
      "photoUrl": "https://lh3.googleusercontent.com/-nt8x4joQmgY/AAAAAAAAAAI/AAAAAAAAAvg/AbgIIUozOq0/s64/photo.jpg",
      "userId": "01155222072916958278"
     },
     "user_tz": -60
    },
    "id": "GHmT9315oNHv",
    "outputId": "bc359afa-f863-47ad-fca3-0d7df8b9df32"
   },
   "outputs": [
    {
     "data": {
      "text/html": [
       "<div>\n",
       "<style scoped>\n",
       "    .dataframe tbody tr th:only-of-type {\n",
       "        vertical-align: middle;\n",
       "    }\n",
       "\n",
       "    .dataframe tbody tr th {\n",
       "        vertical-align: top;\n",
       "    }\n",
       "\n",
       "    .dataframe thead th {\n",
       "        text-align: right;\n",
       "    }\n",
       "</style>\n",
       "<table border=\"1\" class=\"dataframe\">\n",
       "  <thead>\n",
       "    <tr style=\"text-align: right;\">\n",
       "      <th></th>\n",
       "      <th>sentiment</th>\n",
       "      <th>text</th>\n",
       "    </tr>\n",
       "  </thead>\n",
       "  <tbody>\n",
       "    <tr>\n",
       "      <th>0</th>\n",
       "      <td>positive</td>\n",
       "      <td>my lovely pat has one of the great voices of h...</td>\n",
       "    </tr>\n",
       "    <tr>\n",
       "      <th>1</th>\n",
       "      <td>positive</td>\n",
       "      <td>despite the fact that i have only played a sma...</td>\n",
       "    </tr>\n",
       "    <tr>\n",
       "      <th>2</th>\n",
       "      <td>negative</td>\n",
       "      <td>i bought this charger in jul and it worked ok ...</td>\n",
       "    </tr>\n",
       "    <tr>\n",
       "      <th>3</th>\n",
       "      <td>positive</td>\n",
       "      <td>check out maha energys website their powerex m...</td>\n",
       "    </tr>\n",
       "    <tr>\n",
       "      <th>4</th>\n",
       "      <td>positive</td>\n",
       "      <td>reviewed quite a bit of the combo players and ...</td>\n",
       "    </tr>\n",
       "    <tr>\n",
       "      <th>...</th>\n",
       "      <td>...</td>\n",
       "      <td>...</td>\n",
       "    </tr>\n",
       "    <tr>\n",
       "      <th>41404</th>\n",
       "      <td>positive</td>\n",
       "      <td>tea tree shampoo is my favorite i usually get ...</td>\n",
       "    </tr>\n",
       "    <tr>\n",
       "      <th>41405</th>\n",
       "      <td>positive</td>\n",
       "      <td>admittedly i am not a country music fan howeve...</td>\n",
       "    </tr>\n",
       "    <tr>\n",
       "      <th>41406</th>\n",
       "      <td>positive</td>\n",
       "      <td>i try to listen to something new everyday and ...</td>\n",
       "    </tr>\n",
       "    <tr>\n",
       "      <th>41407</th>\n",
       "      <td>negative</td>\n",
       "      <td>i bought this to go inside of the enclosed woo...</td>\n",
       "    </tr>\n",
       "    <tr>\n",
       "      <th>41408</th>\n",
       "      <td>negative</td>\n",
       "      <td>terribly disappointing that she has left the a...</td>\n",
       "    </tr>\n",
       "  </tbody>\n",
       "</table>\n",
       "<p>41409 rows × 2 columns</p>\n",
       "</div>"
      ],
      "text/plain": [
       "      sentiment                                               text\n",
       "0      positive  my lovely pat has one of the great voices of h...\n",
       "1      positive  despite the fact that i have only played a sma...\n",
       "2      negative  i bought this charger in jul and it worked ok ...\n",
       "3      positive  check out maha energys website their powerex m...\n",
       "4      positive  reviewed quite a bit of the combo players and ...\n",
       "...         ...                                                ...\n",
       "41404  positive  tea tree shampoo is my favorite i usually get ...\n",
       "41405  positive  admittedly i am not a country music fan howeve...\n",
       "41406  positive  i try to listen to something new everyday and ...\n",
       "41407  negative  i bought this to go inside of the enclosed woo...\n",
       "41408  negative  terribly disappointing that she has left the a...\n",
       "\n",
       "[41409 rows x 2 columns]"
      ]
     },
     "execution_count": 12,
     "metadata": {},
     "output_type": "execute_result"
    }
   ],
   "source": [
    "df"
   ]
  },
  {
   "cell_type": "code",
   "execution_count": 13,
   "metadata": {},
   "outputs": [],
   "source": [
    "df.to_csv(\"../Datasets/preprocessed_Amazon_Updated.csv\",index=False)"
   ]
  },
  {
   "cell_type": "code",
   "execution_count": null,
   "metadata": {
    "id": "XG9YI5ucqMVb"
   },
   "outputs": [],
   "source": [
    "import pandas as pd\n",
    "from nltk.tokenize import RegexpTokenizer\n",
    "from autocorrect import Speller\n",
    "\n",
    "# Initialize spell checker and tokenizer\n",
    "spell = Speller(lang=\"en\")\n",
    "tokenizer = RegexpTokenizer(r'\\w+')\n",
    "\n",
    "# Ensure the 'text' column exists\n",
    "if \"text\" in df.columns:\n",
    "    df[\"text\"] = df[\"text\"].fillna(\"\")  # Replace NaN with empty string\n",
    "\n",
    "    # Remove punctuation and tokenize\n",
    "    df[\"text\"] = df[\"text\"].map(lambda x: tokenizer.tokenize(str(x)))  \n",
    "\n",
    "    # Apply spell check and join back into a sentence\n",
    "    df[\"text\"] = df[\"text\"].map(lambda x: \" \".join([spell(word) for word in x]))  \n",
    "else:\n",
    "    print(\"Column 'text' not found in the DataFrame!\")"
   ]
  },
  {
   "cell_type": "code",
   "execution_count": null,
   "metadata": {},
   "outputs": [],
   "source": []
  },
  {
   "cell_type": "code",
   "execution_count": 33,
   "metadata": {
    "id": "IHz0jxZiqMli"
   },
   "outputs": [],
   "source": [
    "df.to_csv(\"../Datasets/preprocessed_test_demo.csv\",index=False)"
   ]
  },
  {
   "cell_type": "code",
   "execution_count": null,
   "metadata": {
    "id": "JMki-KXJrJ0D"
   },
   "outputs": [],
   "source": []
  },
  {
   "cell_type": "code",
   "execution_count": null,
   "metadata": {
    "id": "BTjsAPptrJ7G"
   },
   "outputs": [],
   "source": []
  },
  {
   "cell_type": "code",
   "execution_count": null,
   "metadata": {},
   "outputs": [],
   "source": []
  }
 ],
 "metadata": {
  "colab": {
   "authorship_tag": "ABX9TyOQzKMm5vAoyw/Nl6894f7Y",
   "collapsed_sections": [],
   "mount_file_id": "1jT_ju-_wnQgF9XO_vdfu5aQFXi4u9Vlt",
   "name": "0. Preprocessing.ipynb",
   "provenance": []
  },
  "kernelspec": {
   "display_name": "Python 3 (ipykernel)",
   "language": "python",
   "name": "python3"
  },
  "language_info": {
   "codemirror_mode": {
    "name": "ipython",
    "version": 3
   },
   "file_extension": ".py",
   "mimetype": "text/x-python",
   "name": "python",
   "nbconvert_exporter": "python",
   "pygments_lexer": "ipython3",
   "version": "3.11.5"
  }
 },
 "nbformat": 4,
 "nbformat_minor": 4
}
