{
 "cells": [
  {
   "cell_type": "markdown",
   "metadata": {
    "id": "gxAkXurO4ed2"
   },
   "source": [
    "Sentiment Analysis for Cyberbullying Detection on Social Media Platforms using ELECTRA"
   ]
  },
  {
   "cell_type": "code",
   "execution_count": 1,
   "metadata": {},
   "outputs": [],
   "source": [
    "#!pip install transformers"
   ]
  },
  {
   "cell_type": "code",
   "execution_count": 2,
   "metadata": {},
   "outputs": [],
   "source": [
    "import csv\n",
    "import os\n",
    "import random\n",
    "from pathlib import Path\n",
    "import numpy as np\n",
    "import pandas as pd\n",
    "import torch\n",
    "from torch.utils.data import (DataLoader, RandomSampler, SequentialSampler,\n",
    "                              TensorDataset)\n",
    "from torch.utils.data.distributed import DistributedSampler\n",
    "from transformers import ElectraConfig, ElectraForSequenceClassification, ElectraTokenizer\n",
    "from transformers import AdamW, get_linear_schedule_with_warmup\n",
    "from tqdm import tqdm, trange, tqdm_notebook\n",
    "from sklearn.metrics import matthews_corrcoef, accuracy_score, precision_score, recall_score, f1_score"
   ]
  },
  {
   "cell_type": "code",
   "execution_count": 3,
   "metadata": {
    "colab": {
     "base_uri": "https://localhost:8080/",
     "height": 419
    },
    "executionInfo": {
     "elapsed": 2756,
     "status": "ok",
     "timestamp": 1609351260576,
     "user": {
      "displayName": "Rohith Teja",
      "photoUrl": "https://lh3.googleusercontent.com/-nt8x4joQmgY/AAAAAAAAAAI/AAAAAAAAAvg/AbgIIUozOq0/s64/photo.jpg",
      "userId": "01155222072916958278"
     },
     "user_tz": -60
    },
    "id": "Q1QTMaFx40y0",
    "outputId": "89f9c425-4584-4117-a5ea-11c53e7ab63a"
   },
   "outputs": [
    {
     "data": {
      "text/html": [
       "<div>\n",
       "<style scoped>\n",
       "    .dataframe tbody tr th:only-of-type {\n",
       "        vertical-align: middle;\n",
       "    }\n",
       "\n",
       "    .dataframe tbody tr th {\n",
       "        vertical-align: top;\n",
       "    }\n",
       "\n",
       "    .dataframe thead th {\n",
       "        text-align: right;\n",
       "    }\n",
       "</style>\n",
       "<table border=\"1\" class=\"dataframe\">\n",
       "  <thead>\n",
       "    <tr style=\"text-align: right;\">\n",
       "      <th></th>\n",
       "      <th>sentiment</th>\n",
       "      <th>text</th>\n",
       "    </tr>\n",
       "  </thead>\n",
       "  <tbody>\n",
       "    <tr>\n",
       "      <th>0</th>\n",
       "      <td>positive</td>\n",
       "      <td>my lovely pat has one of the great voices of h...</td>\n",
       "    </tr>\n",
       "    <tr>\n",
       "      <th>1</th>\n",
       "      <td>positive</td>\n",
       "      <td>despite the fact that i have only played a sma...</td>\n",
       "    </tr>\n",
       "    <tr>\n",
       "      <th>2</th>\n",
       "      <td>negative</td>\n",
       "      <td>i bought this charger in jul and it worked ok ...</td>\n",
       "    </tr>\n",
       "    <tr>\n",
       "      <th>3</th>\n",
       "      <td>positive</td>\n",
       "      <td>check out maha energys website their powerex m...</td>\n",
       "    </tr>\n",
       "    <tr>\n",
       "      <th>4</th>\n",
       "      <td>positive</td>\n",
       "      <td>reviewed quite a bit of the combo players and ...</td>\n",
       "    </tr>\n",
       "    <tr>\n",
       "      <th>...</th>\n",
       "      <td>...</td>\n",
       "      <td>...</td>\n",
       "    </tr>\n",
       "    <tr>\n",
       "      <th>41404</th>\n",
       "      <td>positive</td>\n",
       "      <td>tea tree shampoo is my favorite i usually get ...</td>\n",
       "    </tr>\n",
       "    <tr>\n",
       "      <th>41405</th>\n",
       "      <td>positive</td>\n",
       "      <td>admittedly i am not a country music fan howeve...</td>\n",
       "    </tr>\n",
       "    <tr>\n",
       "      <th>41406</th>\n",
       "      <td>positive</td>\n",
       "      <td>i try to listen to something new everyday and ...</td>\n",
       "    </tr>\n",
       "    <tr>\n",
       "      <th>41407</th>\n",
       "      <td>negative</td>\n",
       "      <td>i bought this to go inside of the enclosed woo...</td>\n",
       "    </tr>\n",
       "    <tr>\n",
       "      <th>41408</th>\n",
       "      <td>negative</td>\n",
       "      <td>terribly disappointing that she has left the a...</td>\n",
       "    </tr>\n",
       "  </tbody>\n",
       "</table>\n",
       "<p>41409 rows × 2 columns</p>\n",
       "</div>"
      ],
      "text/plain": [
       "      sentiment                                               text\n",
       "0      positive  my lovely pat has one of the great voices of h...\n",
       "1      positive  despite the fact that i have only played a sma...\n",
       "2      negative  i bought this charger in jul and it worked ok ...\n",
       "3      positive  check out maha energys website their powerex m...\n",
       "4      positive  reviewed quite a bit of the combo players and ...\n",
       "...         ...                                                ...\n",
       "41404  positive  tea tree shampoo is my favorite i usually get ...\n",
       "41405  positive  admittedly i am not a country music fan howeve...\n",
       "41406  positive  i try to listen to something new everyday and ...\n",
       "41407  negative  i bought this to go inside of the enclosed woo...\n",
       "41408  negative  terribly disappointing that she has left the a...\n",
       "\n",
       "[41409 rows x 2 columns]"
      ]
     },
     "execution_count": 3,
     "metadata": {},
     "output_type": "execute_result"
    }
   ],
   "source": [
    "dataset = pd.read_csv(\"../Datasets/preprocessed_Amazon_Updated.csv\")\r\n",
    "dataset"
   ]
  },
  {
   "cell_type": "code",
   "execution_count": 4,
   "metadata": {
    "id": "o8f8_Z0kz4iO"
   },
   "outputs": [],
   "source": [
    "dataset.dropna(inplace=True)"
   ]
  },
  {
   "cell_type": "code",
   "execution_count": 5,
   "metadata": {
    "colab": {
     "base_uri": "https://localhost:8080/",
     "height": 419
    },
    "executionInfo": {
     "elapsed": 1327,
     "status": "ok",
     "timestamp": 1609351552294,
     "user": {
      "displayName": "Rohith Teja",
      "photoUrl": "https://lh3.googleusercontent.com/-nt8x4joQmgY/AAAAAAAAAAI/AAAAAAAAAvg/AbgIIUozOq0/s64/photo.jpg",
      "userId": "01155222072916958278"
     },
     "user_tz": -60
    },
    "id": "ZUrUmrmjz4k1",
    "outputId": "05f304a9-8b0d-4a6d-a1d9-7e5f1954d3c9"
   },
   "outputs": [
    {
     "data": {
      "text/html": [
       "<div>\n",
       "<style scoped>\n",
       "    .dataframe tbody tr th:only-of-type {\n",
       "        vertical-align: middle;\n",
       "    }\n",
       "\n",
       "    .dataframe tbody tr th {\n",
       "        vertical-align: top;\n",
       "    }\n",
       "\n",
       "    .dataframe thead th {\n",
       "        text-align: right;\n",
       "    }\n",
       "</style>\n",
       "<table border=\"1\" class=\"dataframe\">\n",
       "  <thead>\n",
       "    <tr style=\"text-align: right;\">\n",
       "      <th></th>\n",
       "      <th>sentiment</th>\n",
       "      <th>text</th>\n",
       "    </tr>\n",
       "  </thead>\n",
       "  <tbody>\n",
       "    <tr>\n",
       "      <th>0</th>\n",
       "      <td>positive</td>\n",
       "      <td>my lovely pat has one of the great voices of h...</td>\n",
       "    </tr>\n",
       "    <tr>\n",
       "      <th>1</th>\n",
       "      <td>positive</td>\n",
       "      <td>despite the fact that i have only played a sma...</td>\n",
       "    </tr>\n",
       "    <tr>\n",
       "      <th>2</th>\n",
       "      <td>negative</td>\n",
       "      <td>i bought this charger in jul and it worked ok ...</td>\n",
       "    </tr>\n",
       "    <tr>\n",
       "      <th>3</th>\n",
       "      <td>positive</td>\n",
       "      <td>check out maha energys website their powerex m...</td>\n",
       "    </tr>\n",
       "    <tr>\n",
       "      <th>4</th>\n",
       "      <td>positive</td>\n",
       "      <td>reviewed quite a bit of the combo players and ...</td>\n",
       "    </tr>\n",
       "    <tr>\n",
       "      <th>...</th>\n",
       "      <td>...</td>\n",
       "      <td>...</td>\n",
       "    </tr>\n",
       "    <tr>\n",
       "      <th>41404</th>\n",
       "      <td>positive</td>\n",
       "      <td>tea tree shampoo is my favorite i usually get ...</td>\n",
       "    </tr>\n",
       "    <tr>\n",
       "      <th>41405</th>\n",
       "      <td>positive</td>\n",
       "      <td>admittedly i am not a country music fan howeve...</td>\n",
       "    </tr>\n",
       "    <tr>\n",
       "      <th>41406</th>\n",
       "      <td>positive</td>\n",
       "      <td>i try to listen to something new everyday and ...</td>\n",
       "    </tr>\n",
       "    <tr>\n",
       "      <th>41407</th>\n",
       "      <td>negative</td>\n",
       "      <td>i bought this to go inside of the enclosed woo...</td>\n",
       "    </tr>\n",
       "    <tr>\n",
       "      <th>41408</th>\n",
       "      <td>negative</td>\n",
       "      <td>terribly disappointing that she has left the a...</td>\n",
       "    </tr>\n",
       "  </tbody>\n",
       "</table>\n",
       "<p>41409 rows × 2 columns</p>\n",
       "</div>"
      ],
      "text/plain": [
       "      sentiment                                               text\n",
       "0      positive  my lovely pat has one of the great voices of h...\n",
       "1      positive  despite the fact that i have only played a sma...\n",
       "2      negative  i bought this charger in jul and it worked ok ...\n",
       "3      positive  check out maha energys website their powerex m...\n",
       "4      positive  reviewed quite a bit of the combo players and ...\n",
       "...         ...                                                ...\n",
       "41404  positive  tea tree shampoo is my favorite i usually get ...\n",
       "41405  positive  admittedly i am not a country music fan howeve...\n",
       "41406  positive  i try to listen to something new everyday and ...\n",
       "41407  negative  i bought this to go inside of the enclosed woo...\n",
       "41408  negative  terribly disappointing that she has left the a...\n",
       "\n",
       "[41409 rows x 2 columns]"
      ]
     },
     "execution_count": 5,
     "metadata": {},
     "output_type": "execute_result"
    }
   ],
   "source": [
    "dataset"
   ]
  },
  {
   "cell_type": "code",
   "execution_count": 6,
   "metadata": {
    "colab": {
     "base_uri": "https://localhost:8080/",
     "height": 390
    },
    "executionInfo": {
     "elapsed": 650,
     "status": "ok",
     "timestamp": 1609351584653,
     "user": {
      "displayName": "Rohith Teja",
      "photoUrl": "https://lh3.googleusercontent.com/-nt8x4joQmgY/AAAAAAAAAAI/AAAAAAAAAvg/AbgIIUozOq0/s64/photo.jpg",
      "userId": "01155222072916958278"
     },
     "user_tz": -60
    },
    "id": "dpwDnTHA48Vc",
    "outputId": "2c4a04fa-dc6e-41bb-9561-600cdec6ff08"
   },
   "outputs": [
    {
     "data": {
      "text/html": [
       "<div>\n",
       "<style scoped>\n",
       "    .dataframe tbody tr th:only-of-type {\n",
       "        vertical-align: middle;\n",
       "    }\n",
       "\n",
       "    .dataframe tbody tr th {\n",
       "        vertical-align: top;\n",
       "    }\n",
       "\n",
       "    .dataframe thead th {\n",
       "        text-align: right;\n",
       "    }\n",
       "</style>\n",
       "<table border=\"1\" class=\"dataframe\">\n",
       "  <thead>\n",
       "    <tr style=\"text-align: right;\">\n",
       "      <th></th>\n",
       "      <th>sentiment</th>\n",
       "      <th>label</th>\n",
       "    </tr>\n",
       "  </thead>\n",
       "  <tbody>\n",
       "    <tr>\n",
       "      <th>0</th>\n",
       "      <td>positive</td>\n",
       "      <td>1.0</td>\n",
       "    </tr>\n",
       "    <tr>\n",
       "      <th>1</th>\n",
       "      <td>positive</td>\n",
       "      <td>1.0</td>\n",
       "    </tr>\n",
       "    <tr>\n",
       "      <th>2</th>\n",
       "      <td>negative</td>\n",
       "      <td>0.0</td>\n",
       "    </tr>\n",
       "    <tr>\n",
       "      <th>3</th>\n",
       "      <td>positive</td>\n",
       "      <td>1.0</td>\n",
       "    </tr>\n",
       "    <tr>\n",
       "      <th>4</th>\n",
       "      <td>positive</td>\n",
       "      <td>1.0</td>\n",
       "    </tr>\n",
       "    <tr>\n",
       "      <th>5</th>\n",
       "      <td>negative</td>\n",
       "      <td>0.0</td>\n",
       "    </tr>\n",
       "    <tr>\n",
       "      <th>6</th>\n",
       "      <td>negative</td>\n",
       "      <td>0.0</td>\n",
       "    </tr>\n",
       "    <tr>\n",
       "      <th>7</th>\n",
       "      <td>negative</td>\n",
       "      <td>0.0</td>\n",
       "    </tr>\n",
       "    <tr>\n",
       "      <th>8</th>\n",
       "      <td>positive</td>\n",
       "      <td>1.0</td>\n",
       "    </tr>\n",
       "    <tr>\n",
       "      <th>9</th>\n",
       "      <td>negative</td>\n",
       "      <td>0.0</td>\n",
       "    </tr>\n",
       "    <tr>\n",
       "      <th>10</th>\n",
       "      <td>positive</td>\n",
       "      <td>1.0</td>\n",
       "    </tr>\n",
       "  </tbody>\n",
       "</table>\n",
       "</div>"
      ],
      "text/plain": [
       "   sentiment  label\n",
       "0   positive    1.0\n",
       "1   positive    1.0\n",
       "2   negative    0.0\n",
       "3   positive    1.0\n",
       "4   positive    1.0\n",
       "5   negative    0.0\n",
       "6   negative    0.0\n",
       "7   negative    0.0\n",
       "8   positive    1.0\n",
       "9   negative    0.0\n",
       "10  positive    1.0"
      ]
     },
     "execution_count": 6,
     "metadata": {},
     "output_type": "execute_result"
    }
   ],
   "source": [
    "from sklearn.preprocessing import OrdinalEncoder\r\n",
    "\r\n",
    "ord_enc = OrdinalEncoder()\r\n",
    "dataset[\"label\"] = ord_enc.fit_transform(dataset[[\"sentiment\"]])\r\n",
    "dataset[[\"sentiment\", \"label\"]].head(11)"
   ]
  },
  {
   "cell_type": "code",
   "execution_count": 7,
   "metadata": {
    "colab": {
     "base_uri": "https://localhost:8080/",
     "height": 204
    },
    "executionInfo": {
     "elapsed": 826,
     "status": "ok",
     "timestamp": 1609351588399,
     "user": {
      "displayName": "Rohith Teja",
      "photoUrl": "https://lh3.googleusercontent.com/-nt8x4joQmgY/AAAAAAAAAAI/AAAAAAAAAvg/AbgIIUozOq0/s64/photo.jpg",
      "userId": "01155222072916958278"
     },
     "user_tz": -60
    },
    "id": "aki1pDzn50hg",
    "outputId": "0341f255-8c00-4abf-e14a-2cca6c47a15c"
   },
   "outputs": [
    {
     "data": {
      "text/html": [
       "<div>\n",
       "<style scoped>\n",
       "    .dataframe tbody tr th:only-of-type {\n",
       "        vertical-align: middle;\n",
       "    }\n",
       "\n",
       "    .dataframe tbody tr th {\n",
       "        vertical-align: top;\n",
       "    }\n",
       "\n",
       "    .dataframe thead th {\n",
       "        text-align: right;\n",
       "    }\n",
       "</style>\n",
       "<table border=\"1\" class=\"dataframe\">\n",
       "  <thead>\n",
       "    <tr style=\"text-align: right;\">\n",
       "      <th></th>\n",
       "      <th>sentiment</th>\n",
       "      <th>text</th>\n",
       "      <th>label</th>\n",
       "    </tr>\n",
       "  </thead>\n",
       "  <tbody>\n",
       "    <tr>\n",
       "      <th>0</th>\n",
       "      <td>positive</td>\n",
       "      <td>my lovely pat has one of the great voices of h...</td>\n",
       "      <td>1.0</td>\n",
       "    </tr>\n",
       "    <tr>\n",
       "      <th>1</th>\n",
       "      <td>positive</td>\n",
       "      <td>despite the fact that i have only played a sma...</td>\n",
       "      <td>1.0</td>\n",
       "    </tr>\n",
       "    <tr>\n",
       "      <th>2</th>\n",
       "      <td>negative</td>\n",
       "      <td>i bought this charger in jul and it worked ok ...</td>\n",
       "      <td>0.0</td>\n",
       "    </tr>\n",
       "    <tr>\n",
       "      <th>3</th>\n",
       "      <td>positive</td>\n",
       "      <td>check out maha energys website their powerex m...</td>\n",
       "      <td>1.0</td>\n",
       "    </tr>\n",
       "    <tr>\n",
       "      <th>4</th>\n",
       "      <td>positive</td>\n",
       "      <td>reviewed quite a bit of the combo players and ...</td>\n",
       "      <td>1.0</td>\n",
       "    </tr>\n",
       "  </tbody>\n",
       "</table>\n",
       "</div>"
      ],
      "text/plain": [
       "  sentiment                                               text  label\n",
       "0  positive  my lovely pat has one of the great voices of h...    1.0\n",
       "1  positive  despite the fact that i have only played a sma...    1.0\n",
       "2  negative  i bought this charger in jul and it worked ok ...    0.0\n",
       "3  positive  check out maha energys website their powerex m...    1.0\n",
       "4  positive  reviewed quite a bit of the combo players and ...    1.0"
      ]
     },
     "execution_count": 7,
     "metadata": {},
     "output_type": "execute_result"
    }
   ],
   "source": [
    "dataset.head()"
   ]
  },
  {
   "cell_type": "code",
   "execution_count": 8,
   "metadata": {
    "colab": {
     "base_uri": "https://localhost:8080/"
    },
    "executionInfo": {
     "elapsed": 1078,
     "status": "ok",
     "timestamp": 1609351590803,
     "user": {
      "displayName": "Rohith Teja",
      "photoUrl": "https://lh3.googleusercontent.com/-nt8x4joQmgY/AAAAAAAAAAI/AAAAAAAAAvg/AbgIIUozOq0/s64/photo.jpg",
      "userId": "01155222072916958278"
     },
     "user_tz": -60
    },
    "id": "0TyOfPIu6EtO",
    "outputId": "e29cdb51-b9c5-49f8-9aaa-bdacfc6858bf"
   },
   "outputs": [
    {
     "data": {
      "text/plain": [
       "(41409, 3)"
      ]
     },
     "execution_count": 8,
     "metadata": {},
     "output_type": "execute_result"
    }
   ],
   "source": [
    "dataset.shape"
   ]
  },
  {
   "cell_type": "code",
   "execution_count": 9,
   "metadata": {},
   "outputs": [],
   "source": [
    "#run this for case 2\n",
    "dataset = dataset[['text','label']]"
   ]
  },
  {
   "cell_type": "code",
   "execution_count": 10,
   "metadata": {
    "colab": {
     "base_uri": "https://localhost:8080/",
     "height": 204
    },
    "executionInfo": {
     "elapsed": 706,
     "status": "ok",
     "timestamp": 1609351593576,
     "user": {
      "displayName": "Rohith Teja",
      "photoUrl": "https://lh3.googleusercontent.com/-nt8x4joQmgY/AAAAAAAAAAI/AAAAAAAAAvg/AbgIIUozOq0/s64/photo.jpg",
      "userId": "01155222072916958278"
     },
     "user_tz": -60
    },
    "id": "R_GWhFJ5_W4E",
    "outputId": "b52c05a0-a01d-48b7-b686-4677ecf6a98f"
   },
   "outputs": [
    {
     "data": {
      "text/html": [
       "<div>\n",
       "<style scoped>\n",
       "    .dataframe tbody tr th:only-of-type {\n",
       "        vertical-align: middle;\n",
       "    }\n",
       "\n",
       "    .dataframe tbody tr th {\n",
       "        vertical-align: top;\n",
       "    }\n",
       "\n",
       "    .dataframe thead th {\n",
       "        text-align: right;\n",
       "    }\n",
       "</style>\n",
       "<table border=\"1\" class=\"dataframe\">\n",
       "  <thead>\n",
       "    <tr style=\"text-align: right;\">\n",
       "      <th></th>\n",
       "      <th>text</th>\n",
       "      <th>label</th>\n",
       "    </tr>\n",
       "  </thead>\n",
       "  <tbody>\n",
       "    <tr>\n",
       "      <th>0</th>\n",
       "      <td>my lovely pat has one of the great voices of h...</td>\n",
       "      <td>1.0</td>\n",
       "    </tr>\n",
       "    <tr>\n",
       "      <th>1</th>\n",
       "      <td>despite the fact that i have only played a sma...</td>\n",
       "      <td>1.0</td>\n",
       "    </tr>\n",
       "    <tr>\n",
       "      <th>2</th>\n",
       "      <td>i bought this charger in jul and it worked ok ...</td>\n",
       "      <td>0.0</td>\n",
       "    </tr>\n",
       "    <tr>\n",
       "      <th>3</th>\n",
       "      <td>check out maha energys website their powerex m...</td>\n",
       "      <td>1.0</td>\n",
       "    </tr>\n",
       "    <tr>\n",
       "      <th>4</th>\n",
       "      <td>reviewed quite a bit of the combo players and ...</td>\n",
       "      <td>1.0</td>\n",
       "    </tr>\n",
       "  </tbody>\n",
       "</table>\n",
       "</div>"
      ],
      "text/plain": [
       "                                                text  label\n",
       "0  my lovely pat has one of the great voices of h...    1.0\n",
       "1  despite the fact that i have only played a sma...    1.0\n",
       "2  i bought this charger in jul and it worked ok ...    0.0\n",
       "3  check out maha energys website their powerex m...    1.0\n",
       "4  reviewed quite a bit of the combo players and ...    1.0"
      ]
     },
     "execution_count": 10,
     "metadata": {},
     "output_type": "execute_result"
    }
   ],
   "source": [
    "dataset.head()"
   ]
  },
  {
   "cell_type": "code",
   "execution_count": 11,
   "metadata": {
    "colab": {
     "base_uri": "https://localhost:8080/"
    },
    "executionInfo": {
     "elapsed": 1212,
     "status": "ok",
     "timestamp": 1609352321768,
     "user": {
      "displayName": "Rohith Teja",
      "photoUrl": "https://lh3.googleusercontent.com/-nt8x4joQmgY/AAAAAAAAAAI/AAAAAAAAAvg/AbgIIUozOq0/s64/photo.jpg",
      "userId": "01155222072916958278"
     },
     "user_tz": -60
    },
    "id": "0CPo45-w54ez",
    "outputId": "2950eeae-4f0b-49f5-f858-2ff548f30a8a"
   },
   "outputs": [
    {
     "data": {
      "text/plain": [
       "((19236, 2), (22173, 2))"
      ]
     },
     "execution_count": 11,
     "metadata": {},
     "output_type": "execute_result"
    }
   ],
   "source": [
    "#train and val split\r\n",
    "\r\n",
    "train_df = dataset.iloc[:19236]\r\n",
    "vall_df = dataset.iloc[19236:]\r\n",
    "train_df.shape, vall_df.shape"
   ]
  },
  {
   "cell_type": "code",
   "execution_count": 12,
   "metadata": {
    "colab": {
     "base_uri": "https://localhost:8080/"
    },
    "executionInfo": {
     "elapsed": 1286,
     "status": "ok",
     "timestamp": 1609352336462,
     "user": {
      "displayName": "Rohith Teja",
      "photoUrl": "https://lh3.googleusercontent.com/-nt8x4joQmgY/AAAAAAAAAAI/AAAAAAAAAvg/AbgIIUozOq0/s64/photo.jpg",
      "userId": "01155222072916958278"
     },
     "user_tz": -60
    },
    "id": "hDlLFDsM38qS",
    "outputId": "50042d0e-8947-4fa6-9597-9da6d2fb2ce8"
   },
   "outputs": [
    {
     "data": {
      "text/plain": [
       "((4122, 2), (18051, 2))"
      ]
     },
     "execution_count": 12,
     "metadata": {},
     "output_type": "execute_result"
    }
   ],
   "source": [
    "#val test split\r\n",
    "\r\n",
    "val_df = vall_df.iloc[:4122]\r\n",
    "test_df = vall_df.iloc[4122:]\r\n",
    "val_df.shape, test_df.shape"
   ]
  },
  {
   "cell_type": "code",
   "execution_count": 13,
   "metadata": {
    "id": "nBYKVQtm7qQx"
   },
   "outputs": [],
   "source": [
    "save_dir = \"../data/\"\r\n",
    "train_df.to_csv(save_dir + \"train.csv\", index=False)\r\n",
    "val_df.to_csv(save_dir + \"dev.csv\", index=False)"
   ]
  },
  {
   "cell_type": "code",
   "execution_count": 14,
   "metadata": {
    "id": "Im_CMsfg7XML"
   },
   "outputs": [],
   "source": [
    "test_df.to_csv(save_dir + \"test.csv\", index=False)"
   ]
  },
  {
   "cell_type": "code",
   "execution_count": 15,
   "metadata": {
    "id": "sGZz9CDp6Nmq"
   },
   "outputs": [],
   "source": [
    "class InputExample(object):\r\n",
    "    \"\"\"A single training/test example for simple sequence classification.\"\"\"\r\n",
    "\r\n",
    "    def __init__(self, guid, text_a, text_b=None, label=None):\r\n",
    "        \"\"\"Constructs a InputExample.\r\n",
    "        Args:\r\n",
    "            guid: Unique id for the example.\r\n",
    "            text_a: string. The untokenized text of the first sequence. For single\r\n",
    "            sequence tasks, only this sequence must be specified.\r\n",
    "            text_b: (Optional) string. The untokenized text of the second sequence.\r\n",
    "            Only must be specified for sequence pair tasks.\r\n",
    "            label: (Optional) string. The label of the example. This should be\r\n",
    "            specified for train and dev examples, but not for test examples.\r\n",
    "        \"\"\"\r\n",
    "        self.guid = guid\r\n",
    "        self.text_a = text_a\r\n",
    "        self.text_b = text_b\r\n",
    "        self.label = label"
   ]
  },
  {
   "cell_type": "code",
   "execution_count": 16,
   "metadata": {
    "id": "jQvqkYnY6ZkZ"
   },
   "outputs": [],
   "source": [
    "class InputFeatures(object):\r\n",
    "    \"\"\"A single set of features of data.\"\"\"\r\n",
    "\r\n",
    "    def __init__(self, input_ids, input_mask, segment_ids, label_id):\r\n",
    "        self.input_ids = input_ids\r\n",
    "        self.input_mask = input_mask\r\n",
    "        self.segment_ids = segment_ids\r\n",
    "        self.label_id = label_id"
   ]
  },
  {
   "cell_type": "code",
   "execution_count": 17,
   "metadata": {
    "id": "KycuyRUt6d4w"
   },
   "outputs": [],
   "source": [
    "\r\n",
    "class DataProcessor(object):\r\n",
    "    \"\"\"Base class for data converters for sequence classification data sets.\"\"\"\r\n",
    "\r\n",
    "    def get_train_examples(self, data_dir):\r\n",
    "        \"\"\"Gets a collection of `InputExample`s for the train set.\"\"\"\r\n",
    "        raise NotImplementedError()\r\n",
    "\r\n",
    "    def get_dev_examples(self, data_dir):\r\n",
    "        \"\"\"Gets a collection of `InputExample`s for the dev set.\"\"\"\r\n",
    "        raise NotImplementedError()\r\n",
    "\r\n",
    "    def get_labels(self):\r\n",
    "        \"\"\"Gets the list of labels for this data set.\"\"\"\r\n",
    "        raise NotImplementedError()\r\n",
    "\r\n",
    "    @classmethod\r\n",
    "    def _read_tsv(cls, input_file, quotechar=None):\r\n",
    "        \"\"\"Reads a tab separated value file.\"\"\"\r\n",
    "        with open(input_file, \"r\", encoding=\"utf-8-sig\") as f:\r\n",
    "            reader = csv.reader(f, delimiter=\"\\t\", quotechar=quotechar)\r\n",
    "            lines = []\r\n",
    "            for line in reader:\r\n",
    "                if sys.version_info[0] == 2:\r\n",
    "                    line = list(unicode(cell, 'utf-8') for cell in line)\r\n",
    "                lines.append(line)\r\n",
    "            return lines\r\n",
    "          \r\n",
    "class TweetProcessor(DataProcessor):\r\n",
    "    \"\"\"Processor for the Amazon Reviews data set.\"\"\"\r\n",
    "\r\n",
    "    def get_train_examples(self, data_dir):\r\n",
    "        \"\"\"See base class.\"\"\"\r\n",
    "        return self._create_examples(\r\n",
    "            self._read_tsv(os.path.join(data_dir, \"train.csv\")), \"train\")\r\n",
    "\r\n",
    "    def get_dev_examples(self, data_dir):\r\n",
    "        \"\"\"See base class.\"\"\"\r\n",
    "        return self._create_examples(\r\n",
    "            self._read_tsv(os.path.join(data_dir, \"dev.csv\")), \"dev\")\r\n",
    "\r\n",
    "    def get_test_examples(self, data_dir):\r\n",
    "        \"\"\"See base class.\"\"\"\r\n",
    "        return self._create_examples(\r\n",
    "            self._read_tsv(os.path.join(data_dir, \"test.csv\")), \"test\")\r\n",
    "\r\n",
    "    def get_labels(self):\r\n",
    "        \"\"\"See base class.\"\"\"\r\n",
    "        return [0, 1, 2]\r\n",
    "\r\n",
    "    #Hack to be compatible with the existing code in transformers library\r\n",
    "    def _read_tsv(self, file_path):\r\n",
    "        return pd.read_csv(file_path).values.tolist()\r\n",
    "\r\n",
    "    def _create_examples(self, lines, set_type):\r\n",
    "        \"\"\"Creates examples for the training and dev sets.\"\"\"\r\n",
    "        examples = []\r\n",
    "        for (i, line) in enumerate(lines):\r\n",
    "            if i == 0:\r\n",
    "               continue\r\n",
    "            guid = \"%s-%s\" % (set_type, i)\r\n",
    "            text_a = str(line[0])\r\n",
    "           # text_b = None\r\n",
    "            label = line[1]\r\n",
    "            examples.append(\r\n",
    "                InputExample(guid=guid, text_a=text_a, text_b=None, label=label))\r\n",
    "        return examples"
   ]
  },
  {
   "cell_type": "code",
   "execution_count": 18,
   "metadata": {
    "id": "6uM9OJal6iF-"
   },
   "outputs": [],
   "source": [
    "def set_seed(seed):\r\n",
    "    random.seed(seed)\r\n",
    "    np.random.seed(seed)\r\n",
    "    torch.manual_seed(seed)\r\n"
   ]
  },
  {
   "cell_type": "code",
   "execution_count": 19,
   "metadata": {},
   "outputs": [],
   "source": [
    "def simple_accuracy(preds, labels):\n",
    "    return (preds == labels).mean()\n",
    "\n",
    "def acc_and_f1(preds, labels):\n",
    "    acc = simple_accuracy(preds, labels)\n",
    "    f1 = f1_score(y_true=labels, y_pred=preds, average='weighted')\n",
    "    precision = precision_score(y_true=labels, y_pred=preds, average='weighted')\n",
    "    recall = recall_score(y_true=labels, y_pred=preds, average='weighted')\n",
    "\n",
    "    return {\n",
    "        \"Accuracy\": acc,\n",
    "        \"f1 Score\": f1,\n",
    "        \"Precision\": precision,\n",
    "        \"Recall\": recall\n",
    "    }\n",
    "\n",
    "def precision_weighted(preds, labels):\n",
    "    return precision_score(y_true=labels, y_pred=preds, average='weighted')\n",
    "\n",
    "def recall_weighted(preds, labels):\n",
    "    return recall_score(y_true=labels, y_pred=preds, average='weighted')\n",
    "\n",
    "def f1_weighted(preds, labels):\n",
    "    return f1_score(y_true=labels, y_pred=preds, average='weighted')\n",
    "\n",
    "def compute_metrics(task_name, preds, labels):\n",
    "    assert len(preds) == len(labels), \"Predictions and labels must have the same length.\"\n",
    "    \n",
    "    if task_name == \"tweet\":\n",
    "        acc = simple_accuracy(preds, labels)  # Define acc before returning\n",
    "        return {\n",
    "            \"Accuracy\": acc,\n",
    "            \"Precision\": precision_weighted(preds, labels),\n",
    "            \"Recall\": recall_weighted(preds, labels),\n",
    "            \"f1 Score\": f1_weighted(preds, labels)\n",
    "        }\n",
    "    else:\n",
    "        raise KeyError(f\"Unknown task name: {task_name}\")"
   ]
  },
  {
   "cell_type": "code",
   "execution_count": 20,
   "metadata": {
    "id": "Wk2MjBbu6npD"
   },
   "outputs": [],
   "source": [
    "def _truncate_seq_pair(tokens_a, tokens_b, max_length):\r\n",
    "    \"\"\"Truncates a sequence pair in place to the maximum length.\"\"\"\r\n",
    "\r\n",
    "    # This is a simple heuristic which will always truncate the longer sequence\r\n",
    "    # one token at a time. This makes more sense than truncating an equal percent\r\n",
    "    # of tokens from each, since if one sequence is very short then each token\r\n",
    "    # that's truncated likely contains more information than a longer sequence.\r\n",
    "    while True:\r\n",
    "        total_length = len(tokens_a) + len(tokens_b)\r\n",
    "        if total_length <= max_length:\r\n",
    "            break\r\n",
    "        if len(tokens_a) > len(tokens_b):\r\n",
    "            tokens_a.pop()\r\n",
    "        else:\r\n",
    "            tokens_b.pop()"
   ]
  },
  {
   "cell_type": "code",
   "execution_count": 21,
   "metadata": {
    "id": "tRP-i1VR6qoL"
   },
   "outputs": [],
   "source": [
    "def convert_examples_to_features(examples, label_list, max_seq_length,\r\n",
    "                                 tokenizer, output_mode,\r\n",
    "                                 cls_token_at_end=False, pad_on_left=False,\r\n",
    "                                 cls_token='[CLS]', sep_token='[SEP]', pad_token=0,\r\n",
    "                                 sequence_a_segment_id=0, sequence_b_segment_id=1,\r\n",
    "                                 cls_token_segment_id=1, pad_token_segment_id=0,\r\n",
    "                                 mask_padding_with_zero=True):\r\n",
    "    \"\"\" Loads a data file into a list of `InputBatch`s\r\n",
    "        `cls_token_at_end` define the location of the CLS token:\r\n",
    "            - False (Default, BERT/XLM pattern): [CLS] + A + [SEP] + B + [SEP]\r\n",
    "            - True (XLNet/GPT pattern): A + [SEP] + B + [SEP] + [CLS]\r\n",
    "        `cls_token_segment_id` define the segment id associated to the CLS token (0 for BERT, 2 for XLNet)\r\n",
    "    \"\"\"\r\n",
    "\r\n",
    "    label_map = {label : i for i, label in enumerate(label_list)}\r\n",
    "\r\n",
    "    features = []\r\n",
    "    for (ex_index, example) in enumerate(examples):\r\n",
    "\r\n",
    "        tokens_a = tokenizer.tokenize(example.text_a)\r\n",
    "\r\n",
    "        tokens_b = None\r\n",
    "        if example.text_b:\r\n",
    "            tokens_b = tokenizer.tokenize(example.text_b)\r\n",
    "            # Modifies `tokens_a` and `tokens_b` in place so that the total\r\n",
    "            # length is less than the specified length.\r\n",
    "            # Account for [CLS], [SEP], [SEP] with \"- 3\"\r\n",
    "            _truncate_seq_pair(tokens_a, tokens_b, max_seq_length - 3)\r\n",
    "        else:\r\n",
    "            # Account for [CLS] and [SEP] with \"- 2\"\r\n",
    "            if len(tokens_a) > max_seq_length - 2:\r\n",
    "                tokens_a = tokens_a[:(max_seq_length - 2)]\r\n",
    "\r\n",
    "        # The convention in BERT is:\r\n",
    "        # (a) For sequence pairs:\r\n",
    "        #  tokens:   [CLS] is this jack ##son ##ville ? [SEP] no it is not . [SEP]\r\n",
    "        #  type_ids:   0   0  0    0    0     0       0   0   1  1  1  1   1   1\r\n",
    "        # (b) For single sequences:\r\n",
    "        #  tokens:   [CLS] the dog is hairy . [SEP]\r\n",
    "        #  type_ids:   0   0   0   0  0     0   0\r\n",
    "        #\r\n",
    "        # Where \"type_ids\" are used to indicate whether this is the first\r\n",
    "        # sequence or the second sequence. The embedding vectors for `type=0` and\r\n",
    "        # `type=1` were learned during pre-training and are added to the wordpiece\r\n",
    "        # embedding vector (and position vector). This is not *strictly* necessary\r\n",
    "        # since the [SEP] token unambiguously separates the sequences, but it makes\r\n",
    "        # it easier for the model to learn the concept of sequences.\r\n",
    "        #\r\n",
    "        # For classification tasks, the first vector (corresponding to [CLS]) is\r\n",
    "        # used as as the \"sentence vector\". Note that this only makes sense because\r\n",
    "        # the entire model is fine-tuned.\r\n",
    "        tokens = tokens_a + [sep_token]\r\n",
    "        segment_ids = [sequence_a_segment_id] * len(tokens)\r\n",
    "\r\n",
    "        if tokens_b:\r\n",
    "            tokens += tokens_b + [sep_token]\r\n",
    "            segment_ids += [sequence_b_segment_id] * (len(tokens_b) + 1)\r\n",
    "\r\n",
    "        if cls_token_at_end:\r\n",
    "            tokens = tokens + [cls_token]\r\n",
    "            segment_ids = segment_ids + [cls_token_segment_id]\r\n",
    "        else:\r\n",
    "            tokens = [cls_token] + tokens\r\n",
    "            segment_ids = [cls_token_segment_id] + segment_ids\r\n",
    "\r\n",
    "        input_ids = tokenizer.convert_tokens_to_ids(tokens)\r\n",
    "\r\n",
    "        # The mask has 1 for real tokens and 0 for padding tokens. Only real\r\n",
    "        # tokens are attended to.\r\n",
    "        input_mask = [1 if mask_padding_with_zero else 0] * len(input_ids)\r\n",
    "\r\n",
    "        # Zero-pad up to the sequence length.\r\n",
    "        padding_length = max_seq_length - len(input_ids)\r\n",
    "        if pad_on_left:\r\n",
    "            input_ids = ([pad_token] * padding_length) + input_ids\r\n",
    "            input_mask = ([0 if mask_padding_with_zero else 1] * padding_length) + input_mask\r\n",
    "            segment_ids = ([pad_token_segment_id] * padding_length) + segment_ids\r\n",
    "        else:\r\n",
    "            input_ids = input_ids + ([pad_token] * padding_length)\r\n",
    "            input_mask = input_mask + ([0 if mask_padding_with_zero else 1] * padding_length)\r\n",
    "            segment_ids = segment_ids + ([pad_token_segment_id] * padding_length)\r\n",
    "\r\n",
    "        assert len(input_ids) == max_seq_length\r\n",
    "        assert len(input_mask) == max_seq_length\r\n",
    "        assert len(segment_ids) == max_seq_length\r\n",
    "\r\n",
    "        if output_mode == \"classification\":\r\n",
    "            label_id = label_map[example.label]\r\n",
    "        elif output_mode == \"regression\":\r\n",
    "            label_id = float(example.label)\r\n",
    "        else:\r\n",
    "            raise KeyError(output_mode)\r\n",
    "\r\n",
    "        features.append(\r\n",
    "                InputFeatures(input_ids=input_ids,\r\n",
    "                              input_mask=input_mask,\r\n",
    "                              segment_ids=segment_ids,\r\n",
    "                              label_id=label_id))\r\n",
    "    return features"
   ]
  },
  {
   "cell_type": "code",
   "execution_count": 22,
   "metadata": {
    "id": "D_bnAV7b60ZK"
   },
   "outputs": [],
   "source": [
    "\r\n",
    "processor = TweetProcessor()\r\n",
    "label_list = processor.get_labels()\r\n",
    "num_labels = len(label_list)"
   ]
  },
  {
   "cell_type": "code",
   "execution_count": 23,
   "metadata": {},
   "outputs": [
    {
     "name": "stderr",
     "output_type": "stream",
     "text": [
      "Some weights of ElectraForSequenceClassification were not initialized from the model checkpoint at google/electra-base-discriminator and are newly initialized: ['classifier.dense.bias', 'classifier.dense.weight', 'classifier.out_proj.bias', 'classifier.out_proj.weight']\n",
      "You should probably TRAIN this model on a down-stream task to be able to use it for predictions and inference.\n"
     ]
    }
   ],
   "source": [
    "#ElectraConfig, ElectraForSequenceClassification, ElectraTokenizer\n",
    "config = ElectraConfig.from_pretrained('google/electra-base-discriminator', num_labels=num_labels)\n",
    "tokenizer = ElectraTokenizer.from_pretrained('google/electra-base-discriminator')\n",
    "model = ElectraForSequenceClassification.from_pretrained('google/electra-base-discriminator', config=config)"
   ]
  },
  {
   "cell_type": "code",
   "execution_count": 24,
   "metadata": {
    "id": "9RFaKP0l8kRK"
   },
   "outputs": [],
   "source": [
    " def load_and_cache_examples(tokenizer, dataset='train'):  \r\n",
    "  if dataset == \"train\":\r\n",
    "      examples = processor.get_train_examples(data_dir)\r\n",
    "  elif dataset == \"dev\":\r\n",
    "      examples = processor.get_dev_examples(data_dir)\r\n",
    "  else:\r\n",
    "      examples = processor.get_test_examples(data_dir)\r\n",
    "  \r\n",
    "  features = convert_examples_to_features(examples, label_list, max_seq_length, tokenizer, output_mode,\r\n",
    "            cls_token_at_end=True,            # xlnet has a cls token at the end\r\n",
    "            cls_token=tokenizer.cls_token,\r\n",
    "            sep_token=tokenizer.sep_token,\r\n",
    "            cls_token_segment_id=2,\r\n",
    "            pad_on_left=True,               # pad on the left for xlnet\r\n",
    "            pad_token=tokenizer.convert_tokens_to_ids([tokenizer.pad_token])[0],\r\n",
    "            pad_token_segment_id=4)\r\n",
    "  # Convert to Tensors and build dataset\r\n",
    "  all_input_ids = torch.tensor([f.input_ids for f in features], dtype=torch.long)\r\n",
    "  all_input_mask = torch.tensor([f.input_mask for f in features], dtype=torch.long)\r\n",
    "  all_segment_ids = torch.tensor([f.segment_ids for f in features], dtype=torch.long)\r\n",
    "  if output_mode == \"classification\":\r\n",
    "      all_label_ids = torch.tensor([f.label_id for f in features], dtype=torch.long)\r\n",
    "  elif output_mode == \"regression\":\r\n",
    "      all_label_ids = torch.tensor([f.label_id for f in features], dtype=torch.float)\r\n",
    "\r\n",
    "  dataset = TensorDataset(all_input_ids, all_input_mask, all_segment_ids, all_label_ids)\r\n",
    "  return dataset"
   ]
  },
  {
   "cell_type": "code",
   "execution_count": 25,
   "metadata": {},
   "outputs": [
    {
     "name": "stdout",
     "output_type": "stream",
     "text": [
      "cpu\n"
     ]
    }
   ],
   "source": [
    "output_mode = 'classification'\n",
    "max_seq_length = 60\n",
    "batch_size = 8\n",
    "max_grad_norm = 1.0\n",
    "gradient_accumulation_steps=2\n",
    "num_train_epochs=3\n",
    "weight_decay=0.0\n",
    "device = torch.device(\"cuda\" if torch.cuda.is_available() else \"cpu\")\n",
    "print(device)"
   ]
  },
  {
   "cell_type": "code",
   "execution_count": 26,
   "metadata": {
    "id": "y4shGAUC-RfA"
   },
   "outputs": [],
   "source": [
    "learning_rate = 2e-5\r\n",
    "adam_epsilon = 1e-8\r\n",
    "num_warmup_steps = 0"
   ]
  },
  {
   "cell_type": "code",
   "execution_count": 27,
   "metadata": {
    "id": "HGeQmWDw-bYN"
   },
   "outputs": [],
   "source": [
    "def train(train_dataset, model, tokenizer):\r\n",
    "  \"\"\" Train the model \"\"\"\r\n",
    "  train_sampler = RandomSampler(train_dataset)\r\n",
    "  train_dataloader = DataLoader(train_dataset, sampler=train_sampler, batch_size=batch_size)\r\n",
    "  num_training_steps = len(train_dataloader) // gradient_accumulation_steps * num_train_epochs\r\n",
    "  # Prepare optimizer and schedule (linear warmup and decay)\r\n",
    "  no_decay = ['bias', 'LayerNorm.weight']\r\n",
    "  optimizer_grouped_parameters = [\r\n",
    "      {'params': [p for n, p in model.named_parameters() if not any(nd in n for nd in no_decay)], 'weight_decay': weight_decay},\r\n",
    "      {'params': [p for n, p in model.named_parameters() if any(nd in n for nd in no_decay)], 'weight_decay': 0.0}\r\n",
    "      ]\r\n",
    "  optimizer = AdamW(optimizer_grouped_parameters, lr=learning_rate, eps=adam_epsilon)\r\n",
    "  scheduler = get_linear_schedule_with_warmup(optimizer, num_warmup_steps= num_warmup_steps,num_training_steps = num_training_steps)\r\n",
    "  \r\n",
    "  global_step = 0\r\n",
    "  tr_loss, logging_loss = 0.0, 0.0\r\n",
    "  model.zero_grad()\r\n",
    "  train_iterator = tqdm_notebook(range(int(num_train_epochs)), desc=\"Epoch\")\r\n",
    "  set_seed(42)\r\n",
    "  for _ in train_iterator:\r\n",
    "    epoch_iterator = tqdm_notebook(train_dataloader, desc=\"Iteration\")\r\n",
    "    for step, batch in enumerate(epoch_iterator):\r\n",
    "      model.train()\r\n",
    "      batch = tuple(t.to(device) for t in batch)\r\n",
    "      inputs = {'input_ids':      batch[0],\r\n",
    "                'attention_mask': batch[1],\r\n",
    "                'token_type_ids': None,       # XLM and RoBERTa don't use segment_ids\r\n",
    "                'labels':         batch[3]}\r\n",
    "      outputs = model(**inputs)\r\n",
    "      loss = outputs[0]  # model outputs are always tuple in pytorch-transformers (see doc)\r\n",
    "      if gradient_accumulation_steps > 1:\r\n",
    "        loss = loss / gradient_accumulation_steps\r\n",
    "      loss.backward()\r\n",
    "      torch.nn.utils.clip_grad_norm_(model.parameters(), max_grad_norm)\r\n",
    "      tr_loss += loss.item()\r\n",
    "      if (step + 1) % gradient_accumulation_steps == 0:\r\n",
    "          scheduler.step()  # Update learning rate schedule\r\n",
    "          optimizer.step()\r\n",
    "          model.zero_grad()\r\n",
    "          global_step += 1\r\n",
    "          \r\n",
    "  return global_step, tr_loss / global_step"
   ]
  },
  {
   "cell_type": "code",
   "execution_count": 28,
   "metadata": {
    "id": "6dWLmYAJ-euq"
   },
   "outputs": [],
   "source": [
    "def evaluate(model, tokenizer, prefix=\"\"):\r\n",
    "  results = {}\r\n",
    "  eval_dataset = load_and_cache_examples(tokenizer, dataset='dev')\r\n",
    "  eval_batch_size = 8\r\n",
    "  eval_sampler = SequentialSampler(eval_dataset)\r\n",
    "  eval_dataloader = DataLoader(eval_dataset, sampler=eval_sampler, batch_size=eval_batch_size)\r\n",
    "  eval_loss = 0.0\r\n",
    "  nb_eval_steps = 0\r\n",
    "  preds = None\r\n",
    "  out_label_ids = None\r\n",
    "  for batch in tqdm_notebook(eval_dataloader, desc=\"Evaluating\"):\r\n",
    "    model.eval()\r\n",
    "    batch = tuple(t.to(device) for t in batch)\r\n",
    "    with torch.no_grad():\r\n",
    "      inputs = {'input_ids':      batch[0],\r\n",
    "                'attention_mask': batch[1],\r\n",
    "                'token_type_ids': None,             # XLM and RoBERTa don't use segment_ids\r\n",
    "                'labels':         batch[3]}\r\n",
    "      outputs = model(**inputs)\r\n",
    "      tmp_eval_loss, logits = outputs[:2]\r\n",
    "      eval_loss += tmp_eval_loss.mean().item()\r\n",
    "    \r\n",
    "    nb_eval_steps += 1\r\n",
    "    if preds is None:\r\n",
    "        preds = logits.detach().cpu().numpy()\r\n",
    "        out_label_ids = inputs['labels'].detach().cpu().numpy()\r\n",
    "    else:\r\n",
    "        preds = np.append(preds, logits.detach().cpu().numpy(), axis=0)\r\n",
    "        out_label_ids = np.append(out_label_ids, inputs['labels'].detach().cpu().numpy(), axis=0)\r\n",
    "  eval_loss = eval_loss / nb_eval_steps\r\n",
    "  if output_mode == \"classification\":\r\n",
    "      preds = np.argmax(preds, axis=1)\r\n",
    "  elif output_mode == \"regression\":\r\n",
    "      preds = np.squeeze(preds)\r\n",
    "  result = compute_metrics(\"tweet\", preds, out_label_ids)\r\n",
    "  return result"
   ]
  },
  {
   "cell_type": "code",
   "execution_count": 29,
   "metadata": {},
   "outputs": [
    {
     "name": "stderr",
     "output_type": "stream",
     "text": [
      "C:\\Users\\phili\\AppData\\Roaming\\Python\\Python311\\site-packages\\transformers\\optimization.py:591: FutureWarning: This implementation of AdamW is deprecated and will be removed in a future version. Use the PyTorch implementation torch.optim.AdamW instead, or set `no_deprecation_warning=True` to disable this warning\n",
      "  warnings.warn(\n",
      "C:\\Users\\phili\\AppData\\Local\\Temp\\ipykernel_27968\\3477889494.py:18: TqdmDeprecationWarning: This function will be removed in tqdm==5.0.0\n",
      "Please use `tqdm.notebook.tqdm` instead of `tqdm.tqdm_notebook`\n",
      "  train_iterator = tqdm_notebook(range(int(num_train_epochs)), desc=\"Epoch\")\n"
     ]
    },
    {
     "data": {
      "application/vnd.jupyter.widget-view+json": {
       "model_id": "59c060137b3c47cfaf1271ed0e28daec",
       "version_major": 2,
       "version_minor": 0
      },
      "text/plain": [
       "Epoch:   0%|          | 0/3 [00:00<?, ?it/s]"
      ]
     },
     "metadata": {},
     "output_type": "display_data"
    },
    {
     "name": "stderr",
     "output_type": "stream",
     "text": [
      "C:\\Users\\phili\\AppData\\Local\\Temp\\ipykernel_27968\\3477889494.py:21: TqdmDeprecationWarning: This function will be removed in tqdm==5.0.0\n",
      "Please use `tqdm.notebook.tqdm` instead of `tqdm.tqdm_notebook`\n",
      "  epoch_iterator = tqdm_notebook(train_dataloader, desc=\"Iteration\")\n"
     ]
    },
    {
     "data": {
      "application/vnd.jupyter.widget-view+json": {
       "model_id": "79eac28b131b43a79dec3bf0bd2e4eab",
       "version_major": 2,
       "version_minor": 0
      },
      "text/plain": [
       "Iteration:   0%|          | 0/2405 [00:00<?, ?it/s]"
      ]
     },
     "metadata": {},
     "output_type": "display_data"
    },
    {
     "data": {
      "application/vnd.jupyter.widget-view+json": {
       "model_id": "3fdd98fca93f4dd29a2a6bc9d7949d0a",
       "version_major": 2,
       "version_minor": 0
      },
      "text/plain": [
       "Iteration:   0%|          | 0/2405 [00:00<?, ?it/s]"
      ]
     },
     "metadata": {},
     "output_type": "display_data"
    },
    {
     "data": {
      "application/vnd.jupyter.widget-view+json": {
       "model_id": "130a47b544d0418995c486a467621abc",
       "version_major": 2,
       "version_minor": 0
      },
      "text/plain": [
       "Iteration:   0%|          | 0/2405 [00:00<?, ?it/s]"
      ]
     },
     "metadata": {},
     "output_type": "display_data"
    }
   ],
   "source": [
    "data_dir= '../data/'\n",
    "model.to(device)\n",
    "train_dataset = load_and_cache_examples(tokenizer, dataset=\"train\")\n",
    "global_step, tr_loss = train(train_dataset, model, tokenizer)"
   ]
  },
  {
   "cell_type": "code",
   "execution_count": 30,
   "metadata": {},
   "outputs": [
    {
     "name": "stderr",
     "output_type": "stream",
     "text": [
      "C:\\Users\\phili\\AppData\\Local\\Temp\\ipykernel_27968\\3514849440.py:11: TqdmDeprecationWarning: This function will be removed in tqdm==5.0.0\n",
      "Please use `tqdm.notebook.tqdm` instead of `tqdm.tqdm_notebook`\n",
      "  for batch in tqdm_notebook(eval_dataloader, desc=\"Evaluating\"):\n"
     ]
    },
    {
     "data": {
      "application/vnd.jupyter.widget-view+json": {
       "model_id": "f8dccb3f0cb44d31ae77d5c02d0757fc",
       "version_major": 2,
       "version_minor": 0
      },
      "text/plain": [
       "Evaluating:   0%|          | 0/516 [00:00<?, ?it/s]"
      ]
     },
     "metadata": {},
     "output_type": "display_data"
    },
    {
     "name": "stdout",
     "output_type": "stream",
     "text": [
      "{'Accuracy': 0.9184663916525115, 'Precision': 0.9184773443513666, 'Recall': 0.9184663916525115, 'f1 Score': 0.9184406212550822}\n"
     ]
    }
   ],
   "source": [
    "# Evaluation\n",
    "result = evaluate(model, tokenizer, prefix=global_step)\n",
    "print(result)"
   ]
  },
  {
   "cell_type": "code",
   "execution_count": 31,
   "metadata": {},
   "outputs": [
    {
     "name": "stderr",
     "output_type": "stream",
     "text": [
      "[codecarbon INFO @ 21:18:01] [setup] RAM Tracking...\n",
      "[codecarbon INFO @ 21:18:01] [setup] GPU Tracking...\n",
      "[codecarbon INFO @ 21:18:01] No GPU found.\n",
      "[codecarbon INFO @ 21:18:01] [setup] CPU Tracking...\n",
      "[codecarbon WARNING @ 21:18:01] No CPU tracking mode found. Falling back on CPU constant mode. \n",
      " Windows OS detected: Please install Intel Power Gadget to measure CPU\n",
      "\n",
      "[codecarbon INFO @ 21:18:03] CPU Model on constant consumption mode: AMD Ryzen 5 5500U with Radeon Graphics\n",
      "[codecarbon INFO @ 21:18:03] >>> Tracker's metadata:\n",
      "[codecarbon INFO @ 21:18:03]   Platform system: Windows-10-10.0.26100-SP0\n",
      "[codecarbon INFO @ 21:18:03]   Python version: 3.11.5\n",
      "[codecarbon INFO @ 21:18:03]   CodeCarbon version: 2.8.1\n",
      "[codecarbon INFO @ 21:18:03]   Available RAM : 7.342 GB\n",
      "[codecarbon INFO @ 21:18:03]   CPU count: 12\n",
      "[codecarbon INFO @ 21:18:03]   CPU model: AMD Ryzen 5 5500U with Radeon Graphics\n",
      "[codecarbon INFO @ 21:18:03]   GPU count: None\n",
      "[codecarbon INFO @ 21:18:03]   GPU model: None\n",
      "[codecarbon INFO @ 21:18:04] Saving emissions data to file C:\\Users\\phili\\Sentiment Analysis with LLM-Based Mitigation Techniques for Cyberbullying Detection on Social Media Platforms\\Codes\\emissions.csv\n",
      "C:\\Users\\phili\\AppData\\Local\\Temp\\ipykernel_27968\\3514849440.py:11: TqdmDeprecationWarning: This function will be removed in tqdm==5.0.0\n",
      "Please use `tqdm.notebook.tqdm` instead of `tqdm.tqdm_notebook`\n",
      "  for batch in tqdm_notebook(eval_dataloader, desc=\"Evaluating\"):\n"
     ]
    },
    {
     "data": {
      "application/vnd.jupyter.widget-view+json": {
       "model_id": "1d3b2408a7b54fb5971f05d7262a51df",
       "version_major": 2,
       "version_minor": 0
      },
      "text/plain": [
       "Evaluating:   0%|          | 0/516 [00:00<?, ?it/s]"
      ]
     },
     "metadata": {},
     "output_type": "display_data"
    },
    {
     "name": "stderr",
     "output_type": "stream",
     "text": [
      "[codecarbon INFO @ 21:18:19] Energy consumed for RAM : 0.000011 kWh. RAM Power : 2.7531466484069824 W\n",
      "[codecarbon INFO @ 21:18:19] Energy consumed for all CPUs : 0.000052 kWh. Total CPU Power : 12.5 W\n",
      "[codecarbon INFO @ 21:18:19] 0.000064 kWh of electricity used since the beginning.\n",
      "[codecarbon INFO @ 21:18:34] Energy consumed for RAM : 0.000023 kWh. RAM Power : 2.7531466484069824 W\n",
      "[codecarbon INFO @ 21:18:34] Energy consumed for all CPUs : 0.000104 kWh. Total CPU Power : 12.5 W\n",
      "[codecarbon INFO @ 21:18:34] 0.000127 kWh of electricity used since the beginning.\n",
      "[codecarbon INFO @ 21:18:49] Energy consumed for RAM : 0.000034 kWh. RAM Power : 2.7531466484069824 W\n",
      "[codecarbon INFO @ 21:18:49] Energy consumed for all CPUs : 0.000156 kWh. Total CPU Power : 12.5 W\n",
      "[codecarbon INFO @ 21:18:49] 0.000191 kWh of electricity used since the beginning.\n",
      "[codecarbon INFO @ 21:19:04] Energy consumed for RAM : 0.000046 kWh. RAM Power : 2.7531466484069824 W\n",
      "[codecarbon INFO @ 21:19:04] Energy consumed for all CPUs : 0.000208 kWh. Total CPU Power : 12.5 W\n",
      "[codecarbon INFO @ 21:19:04] 0.000254 kWh of electricity used since the beginning.\n",
      "[codecarbon INFO @ 21:19:19] Energy consumed for RAM : 0.000057 kWh. RAM Power : 2.7531466484069824 W\n",
      "[codecarbon INFO @ 21:19:19] Energy consumed for all CPUs : 0.000261 kWh. Total CPU Power : 12.5 W\n",
      "[codecarbon INFO @ 21:19:19] 0.000318 kWh of electricity used since the beginning.\n",
      "[codecarbon INFO @ 21:19:34] Energy consumed for RAM : 0.000069 kWh. RAM Power : 2.7531466484069824 W\n",
      "[codecarbon INFO @ 21:19:34] Energy consumed for all CPUs : 0.000313 kWh. Total CPU Power : 12.5 W\n",
      "[codecarbon INFO @ 21:19:34] 0.000382 kWh of electricity used since the beginning.\n",
      "[codecarbon INFO @ 21:19:49] Energy consumed for RAM : 0.000080 kWh. RAM Power : 2.7531466484069824 W\n",
      "[codecarbon INFO @ 21:19:49] Energy consumed for all CPUs : 0.000365 kWh. Total CPU Power : 12.5 W\n",
      "[codecarbon INFO @ 21:19:49] 0.000445 kWh of electricity used since the beginning.\n",
      "[codecarbon INFO @ 21:20:04] Energy consumed for RAM : 0.000092 kWh. RAM Power : 2.7531466484069824 W\n",
      "[codecarbon INFO @ 21:20:04] Energy consumed for all CPUs : 0.000417 kWh. Total CPU Power : 12.5 W\n",
      "[codecarbon INFO @ 21:20:04] 0.000509 kWh of electricity used since the beginning.\n",
      "[codecarbon INFO @ 21:20:04] 0.000892 g.CO2eq/s mean an estimation of 28.115661396362245 kg.CO2eq/year\n",
      "[codecarbon INFO @ 21:20:19] Energy consumed for RAM : 0.000103 kWh. RAM Power : 2.7531466484069824 W\n",
      "[codecarbon INFO @ 21:20:19] Energy consumed for all CPUs : 0.000469 kWh. Total CPU Power : 12.5 W\n",
      "[codecarbon INFO @ 21:20:19] 0.000572 kWh of electricity used since the beginning.\n",
      "[codecarbon INFO @ 21:20:34] Energy consumed for RAM : 0.000115 kWh. RAM Power : 2.7531466484069824 W\n",
      "[codecarbon INFO @ 21:20:34] Energy consumed for all CPUs : 0.000521 kWh. Total CPU Power : 12.5 W\n",
      "[codecarbon INFO @ 21:20:34] 0.000636 kWh of electricity used since the beginning.\n",
      "[codecarbon INFO @ 21:20:49] Energy consumed for RAM : 0.000126 kWh. RAM Power : 2.7531466484069824 W\n",
      "[codecarbon INFO @ 21:20:49] Energy consumed for all CPUs : 0.000573 kWh. Total CPU Power : 12.5 W\n",
      "[codecarbon INFO @ 21:20:49] 0.000699 kWh of electricity used since the beginning.\n",
      "[codecarbon INFO @ 21:21:04] Energy consumed for RAM : 0.000138 kWh. RAM Power : 2.7531466484069824 W\n",
      "[codecarbon INFO @ 21:21:04] Energy consumed for all CPUs : 0.000625 kWh. Total CPU Power : 12.5 W\n",
      "[codecarbon INFO @ 21:21:04] 0.000763 kWh of electricity used since the beginning.\n",
      "[codecarbon INFO @ 21:21:19] Energy consumed for RAM : 0.000149 kWh. RAM Power : 2.7531466484069824 W\n",
      "[codecarbon INFO @ 21:21:19] Energy consumed for all CPUs : 0.000677 kWh. Total CPU Power : 12.5 W\n",
      "[codecarbon INFO @ 21:21:19] 0.000827 kWh of electricity used since the beginning.\n",
      "[codecarbon INFO @ 21:21:34] Energy consumed for RAM : 0.000161 kWh. RAM Power : 2.7531466484069824 W\n",
      "[codecarbon INFO @ 21:21:34] Energy consumed for all CPUs : 0.000730 kWh. Total CPU Power : 12.5 W\n",
      "[codecarbon INFO @ 21:21:34] 0.000890 kWh of electricity used since the beginning.\n",
      "[codecarbon INFO @ 21:21:49] Energy consumed for RAM : 0.000172 kWh. RAM Power : 2.7531466484069824 W\n",
      "[codecarbon INFO @ 21:21:49] Energy consumed for all CPUs : 0.000782 kWh. Total CPU Power : 12.5 W\n",
      "[codecarbon INFO @ 21:21:49] 0.000954 kWh of electricity used since the beginning.\n",
      "[codecarbon INFO @ 21:22:04] Energy consumed for RAM : 0.000184 kWh. RAM Power : 2.7531466484069824 W\n",
      "[codecarbon INFO @ 21:22:04] Energy consumed for all CPUs : 0.000834 kWh. Total CPU Power : 12.5 W\n",
      "[codecarbon INFO @ 21:22:04] 0.001017 kWh of electricity used since the beginning.\n",
      "[codecarbon INFO @ 21:22:04] 0.000891 g.CO2eq/s mean an estimation of 28.11326638221383 kg.CO2eq/year\n",
      "[codecarbon INFO @ 21:22:19] Energy consumed for RAM : 0.000195 kWh. RAM Power : 2.7531466484069824 W\n",
      "[codecarbon INFO @ 21:22:19] Energy consumed for all CPUs : 0.000886 kWh. Total CPU Power : 12.5 W\n",
      "[codecarbon INFO @ 21:22:19] 0.001081 kWh of electricity used since the beginning.\n",
      "[codecarbon INFO @ 21:22:34] Energy consumed for RAM : 0.000206 kWh. RAM Power : 2.7531466484069824 W\n",
      "[codecarbon INFO @ 21:22:34] Energy consumed for all CPUs : 0.000938 kWh. Total CPU Power : 12.5 W\n",
      "[codecarbon INFO @ 21:22:34] 0.001144 kWh of electricity used since the beginning.\n",
      "[codecarbon INFO @ 21:22:49] Energy consumed for RAM : 0.000218 kWh. RAM Power : 2.7531466484069824 W\n",
      "[codecarbon INFO @ 21:22:49] Energy consumed for all CPUs : 0.000990 kWh. Total CPU Power : 12.5 W\n",
      "[codecarbon INFO @ 21:22:49] 0.001208 kWh of electricity used since the beginning.\n",
      "[codecarbon INFO @ 21:23:04] Energy consumed for RAM : 0.000229 kWh. RAM Power : 2.7531466484069824 W\n",
      "[codecarbon INFO @ 21:23:04] Energy consumed for all CPUs : 0.001042 kWh. Total CPU Power : 12.5 W\n",
      "[codecarbon INFO @ 21:23:04] 0.001272 kWh of electricity used since the beginning.\n",
      "[codecarbon INFO @ 21:23:07] Energy consumed for RAM : 0.000231 kWh. RAM Power : 2.7531466484069824 W\n",
      "[codecarbon INFO @ 21:23:07] Energy consumed for all CPUs : 0.001050 kWh. Total CPU Power : 12.5 W\n",
      "[codecarbon INFO @ 21:23:07] 0.001281 kWh of electricity used since the beginning.\n"
     ]
    },
    {
     "name": "stdout",
     "output_type": "stream",
     "text": [
      "{'Accuracy': 0.9184663916525115, 'Precision': 0.9184773443513666, 'Recall': 0.9184663916525115, 'f1 Score': 0.9184406212550822}\n",
      "Inference Time: 302.5264 seconds\n",
      "CPU Usage: 7.20%\n",
      "RAM Usage: 45.67 MB\n",
      "Energy Consumption: 0.000270 kWh\n"
     ]
    }
   ],
   "source": [
    "# Evaluation\n",
    "import time\n",
    "import psutil\n",
    "from codecarbon import EmissionsTracker\n",
    "\n",
    "# Start tracking energy consumption\n",
    "tracker = EmissionsTracker()\n",
    "tracker.start()\n",
    "\n",
    "# Measure CPU and RAM usage before evaluation\n",
    "process = psutil.Process()\n",
    "cpu_before = psutil.cpu_percent(interval=None)\n",
    "ram_before = process.memory_info().rss / (1024 * 1024)  # Convert to MB\n",
    "\n",
    "# Measure inference time\n",
    "start_time = time.time()\n",
    "\n",
    "# Evaluation\n",
    "result = evaluate(model, tokenizer, prefix=global_step)\n",
    "\n",
    "# Measure inference time\n",
    "end_time = time.time()\n",
    "inference_time = end_time - start_time\n",
    "\n",
    "# Measure CPU and RAM usage after evaluation\n",
    "cpu_after = psutil.cpu_percent(interval=None)\n",
    "ram_after = process.memory_info().rss / (1024 * 1024)  # Convert to MB\n",
    "\n",
    "# Calculate differences\n",
    "cpu_usage = cpu_after - cpu_before\n",
    "ram_usage = ram_after - ram_before\n",
    "\n",
    "# Stop energy tracking\n",
    "emissions = tracker.stop()\n",
    "\n",
    "# Print results\n",
    "print(result)\n",
    "print(f\"Inference Time: {inference_time:.4f} seconds\")\n",
    "print(f\"CPU Usage: {cpu_usage:.2f}%\")\n",
    "print(f\"RAM Usage: {ram_usage:.2f} MB\")\n",
    "print(f\"Energy Consumption: {emissions:.6f} kWh\")"
   ]
  },
  {
   "cell_type": "code",
   "execution_count": 32,
   "metadata": {
    "id": "GIx38YdB_oHO"
   },
   "outputs": [],
   "source": [
    "def evaluatetest(model, tokenizer, prefix=\"\"):\r\n",
    "  results = {}\r\n",
    "  eval_dataset = load_and_cache_examples(tokenizer, dataset='test')\r\n",
    "  eval_batch_size = 8\r\n",
    "  eval_sampler = SequentialSampler(eval_dataset)\r\n",
    "  eval_dataloader = DataLoader(eval_dataset, sampler=eval_sampler, batch_size=eval_batch_size)\r\n",
    "  eval_loss = 0.0\r\n",
    "  nb_eval_steps = 0\r\n",
    "  preds = None\r\n",
    "  out_label_ids = None\r\n",
    "  for batch in tqdm_notebook(eval_dataloader, desc=\"Evaluating\"):\r\n",
    "    model.eval()\r\n",
    "    batch = tuple(t.to(device) for t in batch)\r\n",
    "    with torch.no_grad():\r\n",
    "      inputs = {'input_ids':      batch[0],\r\n",
    "                'attention_mask': batch[1],\r\n",
    "                'token_type_ids': None,             # XLM and RoBERTa don't use segment_ids\r\n",
    "                'labels':         batch[3]}\r\n",
    "      outputs = model(**inputs)\r\n",
    "      tmp_eval_loss, logits = outputs[:2]\r\n",
    "      eval_loss += tmp_eval_loss.mean().item()\r\n",
    "    \r\n",
    "    nb_eval_steps += 1\r\n",
    "    if preds is None:\r\n",
    "        preds = logits.detach().cpu().numpy()\r\n",
    "        out_label_ids = inputs['labels'].detach().cpu().numpy()\r\n",
    "    else:\r\n",
    "        preds = np.append(preds, logits.detach().cpu().numpy(), axis=0)\r\n",
    "        out_label_ids = np.append(out_label_ids, inputs['labels'].detach().cpu().numpy(), axis=0)\r\n",
    "  eval_loss = eval_loss / nb_eval_steps\r\n",
    "  if output_mode == \"classification\":\r\n",
    "      preds = np.argmax(preds, axis=1)\r\n",
    "  elif output_mode == \"regression\":\r\n",
    "      preds = np.squeeze(preds)\r\n",
    "  result = compute_metrics(\"tweet\", preds, out_label_ids)\r\n",
    "  return result"
   ]
  },
  {
   "cell_type": "code",
   "execution_count": 33,
   "metadata": {},
   "outputs": [
    {
     "name": "stderr",
     "output_type": "stream",
     "text": [
      "C:\\Users\\phili\\AppData\\Local\\Temp\\ipykernel_27968\\3172660639.py:11: TqdmDeprecationWarning: This function will be removed in tqdm==5.0.0\n",
      "Please use `tqdm.notebook.tqdm` instead of `tqdm.tqdm_notebook`\n",
      "  for batch in tqdm_notebook(eval_dataloader, desc=\"Evaluating\"):\n"
     ]
    },
    {
     "data": {
      "application/vnd.jupyter.widget-view+json": {
       "model_id": "a7605361a97f4f938f28271bb06437d2",
       "version_major": 2,
       "version_minor": 0
      },
      "text/plain": [
       "Evaluating:   0%|          | 0/2257 [00:00<?, ?it/s]"
      ]
     },
     "metadata": {},
     "output_type": "display_data"
    },
    {
     "name": "stdout",
     "output_type": "stream",
     "text": [
      "{'Accuracy': 0.9149030470914128, 'Precision': 0.914948601152287, 'Recall': 0.9149030470914128, 'f1 Score': 0.9148965986730282}\n"
     ]
    }
   ],
   "source": [
    "# Evaluation\n",
    "result = evaluatetest(model, tokenizer, prefix=global_step)\n",
    "print(result)"
   ]
  },
  {
   "cell_type": "code",
   "execution_count": 34,
   "metadata": {
    "id": "EUIhxMbp4_jD"
   },
   "outputs": [
    {
     "name": "stderr",
     "output_type": "stream",
     "text": [
      "[codecarbon INFO @ 22:00:37] [setup] RAM Tracking...\n",
      "[codecarbon INFO @ 22:00:37] [setup] GPU Tracking...\n",
      "[codecarbon INFO @ 22:00:37] No GPU found.\n",
      "[codecarbon INFO @ 22:00:37] [setup] CPU Tracking...\n",
      "[codecarbon WARNING @ 22:00:37] No CPU tracking mode found. Falling back on CPU constant mode. \n",
      " Windows OS detected: Please install Intel Power Gadget to measure CPU\n",
      "\n",
      "[codecarbon INFO @ 22:00:40] CPU Model on constant consumption mode: AMD Ryzen 5 5500U with Radeon Graphics\n",
      "[codecarbon INFO @ 22:00:40] >>> Tracker's metadata:\n",
      "[codecarbon INFO @ 22:00:40]   Platform system: Windows-10-10.0.26100-SP0\n",
      "[codecarbon INFO @ 22:00:40]   Python version: 3.11.5\n",
      "[codecarbon INFO @ 22:00:40]   CodeCarbon version: 2.8.1\n",
      "[codecarbon INFO @ 22:00:40]   Available RAM : 7.342 GB\n",
      "[codecarbon INFO @ 22:00:40]   CPU count: 12\n",
      "[codecarbon INFO @ 22:00:40]   CPU model: AMD Ryzen 5 5500U with Radeon Graphics\n",
      "[codecarbon INFO @ 22:00:40]   GPU count: None\n",
      "[codecarbon INFO @ 22:00:40]   GPU model: None\n",
      "[codecarbon INFO @ 22:00:41] Saving emissions data to file C:\\Users\\phili\\Sentiment Analysis with LLM-Based Mitigation Techniques for Cyberbullying Detection on Social Media Platforms\\Codes\\emissions.csv\n",
      "C:\\Users\\phili\\AppData\\Local\\Temp\\ipykernel_27968\\3514849440.py:11: TqdmDeprecationWarning: This function will be removed in tqdm==5.0.0\n",
      "Please use `tqdm.notebook.tqdm` instead of `tqdm.tqdm_notebook`\n",
      "  for batch in tqdm_notebook(eval_dataloader, desc=\"Evaluating\"):\n"
     ]
    },
    {
     "data": {
      "application/vnd.jupyter.widget-view+json": {
       "model_id": "4735e38449a341adac56c204e8e36456",
       "version_major": 2,
       "version_minor": 0
      },
      "text/plain": [
       "Evaluating:   0%|          | 0/516 [00:00<?, ?it/s]"
      ]
     },
     "metadata": {},
     "output_type": "display_data"
    },
    {
     "name": "stderr",
     "output_type": "stream",
     "text": [
      "[codecarbon INFO @ 22:00:56] Energy consumed for RAM : 0.000011 kWh. RAM Power : 2.7531466484069824 W\n",
      "[codecarbon INFO @ 22:00:56] Energy consumed for all CPUs : 0.000052 kWh. Total CPU Power : 12.5 W\n",
      "[codecarbon INFO @ 22:00:56] 0.000064 kWh of electricity used since the beginning.\n",
      "[codecarbon INFO @ 22:01:11] Energy consumed for RAM : 0.000023 kWh. RAM Power : 2.7531466484069824 W\n",
      "[codecarbon INFO @ 22:01:11] Energy consumed for all CPUs : 0.000104 kWh. Total CPU Power : 12.5 W\n",
      "[codecarbon INFO @ 22:01:11] 0.000127 kWh of electricity used since the beginning.\n",
      "[codecarbon INFO @ 22:01:26] Energy consumed for RAM : 0.000034 kWh. RAM Power : 2.7531466484069824 W\n",
      "[codecarbon INFO @ 22:01:26] Energy consumed for all CPUs : 0.000156 kWh. Total CPU Power : 12.5 W\n",
      "[codecarbon INFO @ 22:01:26] 0.000191 kWh of electricity used since the beginning.\n",
      "[codecarbon INFO @ 22:01:41] Energy consumed for RAM : 0.000046 kWh. RAM Power : 2.7531466484069824 W\n",
      "[codecarbon INFO @ 22:01:41] Energy consumed for all CPUs : 0.000208 kWh. Total CPU Power : 12.5 W\n",
      "[codecarbon INFO @ 22:01:41] 0.000254 kWh of electricity used since the beginning.\n",
      "[codecarbon INFO @ 22:01:56] Energy consumed for RAM : 0.000057 kWh. RAM Power : 2.7531466484069824 W\n",
      "[codecarbon INFO @ 22:01:56] Energy consumed for all CPUs : 0.000261 kWh. Total CPU Power : 12.5 W\n",
      "[codecarbon INFO @ 22:01:56] 0.000318 kWh of electricity used since the beginning.\n",
      "[codecarbon INFO @ 22:02:11] Energy consumed for RAM : 0.000069 kWh. RAM Power : 2.7531466484069824 W\n",
      "[codecarbon INFO @ 22:02:11] Energy consumed for all CPUs : 0.000313 kWh. Total CPU Power : 12.5 W\n",
      "[codecarbon INFO @ 22:02:11] 0.000382 kWh of electricity used since the beginning.\n",
      "[codecarbon INFO @ 22:02:26] Energy consumed for RAM : 0.000080 kWh. RAM Power : 2.7531466484069824 W\n",
      "[codecarbon INFO @ 22:02:26] Energy consumed for all CPUs : 0.000365 kWh. Total CPU Power : 12.5 W\n",
      "[codecarbon INFO @ 22:02:26] 0.000445 kWh of electricity used since the beginning.\n",
      "[codecarbon INFO @ 22:02:41] Energy consumed for RAM : 0.000092 kWh. RAM Power : 2.7531466484069824 W\n",
      "[codecarbon INFO @ 22:02:41] Energy consumed for all CPUs : 0.000417 kWh. Total CPU Power : 12.5 W\n",
      "[codecarbon INFO @ 22:02:41] 0.000509 kWh of electricity used since the beginning.\n",
      "[codecarbon INFO @ 22:02:41] 0.000891 g.CO2eq/s mean an estimation of 28.11422569745648 kg.CO2eq/year\n",
      "[codecarbon INFO @ 22:02:56] Energy consumed for RAM : 0.000103 kWh. RAM Power : 2.7531466484069824 W\n",
      "[codecarbon INFO @ 22:02:56] Energy consumed for all CPUs : 0.000469 kWh. Total CPU Power : 12.5 W\n",
      "[codecarbon INFO @ 22:02:56] 0.000572 kWh of electricity used since the beginning.\n",
      "[codecarbon INFO @ 22:03:11] Energy consumed for RAM : 0.000115 kWh. RAM Power : 2.7531466484069824 W\n",
      "[codecarbon INFO @ 22:03:11] Energy consumed for all CPUs : 0.000521 kWh. Total CPU Power : 12.5 W\n",
      "[codecarbon INFO @ 22:03:11] 0.000636 kWh of electricity used since the beginning.\n",
      "[codecarbon INFO @ 22:03:26] Energy consumed for RAM : 0.000126 kWh. RAM Power : 2.7531466484069824 W\n",
      "[codecarbon INFO @ 22:03:26] Energy consumed for all CPUs : 0.000573 kWh. Total CPU Power : 12.5 W\n",
      "[codecarbon INFO @ 22:03:26] 0.000699 kWh of electricity used since the beginning.\n",
      "[codecarbon INFO @ 22:03:41] Energy consumed for RAM : 0.000138 kWh. RAM Power : 2.7531466484069824 W\n",
      "[codecarbon INFO @ 22:03:41] Energy consumed for all CPUs : 0.000625 kWh. Total CPU Power : 12.5 W\n",
      "[codecarbon INFO @ 22:03:41] 0.000763 kWh of electricity used since the beginning.\n",
      "[codecarbon INFO @ 22:03:56] Energy consumed for RAM : 0.000149 kWh. RAM Power : 2.7531466484069824 W\n",
      "[codecarbon INFO @ 22:03:56] Energy consumed for all CPUs : 0.000677 kWh. Total CPU Power : 12.5 W\n",
      "[codecarbon INFO @ 22:03:56] 0.000827 kWh of electricity used since the beginning.\n",
      "[codecarbon INFO @ 22:04:11] Energy consumed for RAM : 0.000161 kWh. RAM Power : 2.7531466484069824 W\n",
      "[codecarbon INFO @ 22:04:11] Energy consumed for all CPUs : 0.000730 kWh. Total CPU Power : 12.5 W\n",
      "[codecarbon INFO @ 22:04:11] 0.000890 kWh of electricity used since the beginning.\n",
      "[codecarbon INFO @ 22:04:26] Energy consumed for RAM : 0.000172 kWh. RAM Power : 2.7531466484069824 W\n",
      "[codecarbon INFO @ 22:04:26] Energy consumed for all CPUs : 0.000782 kWh. Total CPU Power : 12.5 W\n",
      "[codecarbon INFO @ 22:04:26] 0.000954 kWh of electricity used since the beginning.\n",
      "[codecarbon INFO @ 22:04:41] Energy consumed for RAM : 0.000184 kWh. RAM Power : 2.7531466484069824 W\n",
      "[codecarbon INFO @ 22:04:41] Energy consumed for all CPUs : 0.000834 kWh. Total CPU Power : 12.5 W\n",
      "[codecarbon INFO @ 22:04:41] 0.001017 kWh of electricity used since the beginning.\n",
      "[codecarbon INFO @ 22:04:41] 0.000891 g.CO2eq/s mean an estimation of 28.112800430707495 kg.CO2eq/year\n",
      "[codecarbon INFO @ 22:04:56] Energy consumed for RAM : 0.000195 kWh. RAM Power : 2.7531466484069824 W\n",
      "[codecarbon INFO @ 22:04:56] Energy consumed for all CPUs : 0.000886 kWh. Total CPU Power : 12.5 W\n",
      "[codecarbon INFO @ 22:04:56] 0.001081 kWh of electricity used since the beginning.\n",
      "[codecarbon INFO @ 22:05:11] Energy consumed for RAM : 0.000206 kWh. RAM Power : 2.7531466484069824 W\n",
      "[codecarbon INFO @ 22:05:11] Energy consumed for all CPUs : 0.000938 kWh. Total CPU Power : 12.5 W\n",
      "[codecarbon INFO @ 22:05:11] 0.001144 kWh of electricity used since the beginning.\n",
      "[codecarbon INFO @ 22:05:26] Energy consumed for RAM : 0.000218 kWh. RAM Power : 2.7531466484069824 W\n",
      "[codecarbon INFO @ 22:05:26] Energy consumed for all CPUs : 0.000990 kWh. Total CPU Power : 12.5 W\n",
      "[codecarbon INFO @ 22:05:26] 0.001208 kWh of electricity used since the beginning.\n",
      "[codecarbon INFO @ 22:05:41] Energy consumed for RAM : 0.000229 kWh. RAM Power : 2.7531466484069824 W\n",
      "[codecarbon INFO @ 22:05:41] Energy consumed for all CPUs : 0.001042 kWh. Total CPU Power : 12.5 W\n",
      "[codecarbon INFO @ 22:05:41] 0.001272 kWh of electricity used since the beginning.\n",
      "[codecarbon INFO @ 22:05:56] Energy consumed for RAM : 0.000241 kWh. RAM Power : 2.7531466484069824 W\n",
      "[codecarbon INFO @ 22:05:56] Energy consumed for all CPUs : 0.001094 kWh. Total CPU Power : 12.5 W\n",
      "[codecarbon INFO @ 22:05:56] 0.001335 kWh of electricity used since the beginning.\n",
      "[codecarbon INFO @ 22:06:11] Energy consumed for RAM : 0.000252 kWh. RAM Power : 2.7531466484069824 W\n",
      "[codecarbon INFO @ 22:06:11] Energy consumed for all CPUs : 0.001146 kWh. Total CPU Power : 12.5 W\n",
      "[codecarbon INFO @ 22:06:11] 0.001399 kWh of electricity used since the beginning.\n",
      "[codecarbon INFO @ 22:06:26] Energy consumed for RAM : 0.000264 kWh. RAM Power : 2.7531466484069824 W\n",
      "[codecarbon INFO @ 22:06:26] Energy consumed for all CPUs : 0.001199 kWh. Total CPU Power : 12.5 W\n",
      "[codecarbon INFO @ 22:06:26] 0.001462 kWh of electricity used since the beginning.\n",
      "[codecarbon INFO @ 22:06:33] Energy consumed for RAM : 0.000269 kWh. RAM Power : 2.7531466484069824 W\n",
      "[codecarbon INFO @ 22:06:33] Energy consumed for all CPUs : 0.001220 kWh. Total CPU Power : 12.5 W\n",
      "[codecarbon INFO @ 22:06:33] 0.001488 kWh of electricity used since the beginning.\n",
      "[codecarbon INFO @ 22:06:33] 0.000891 g.CO2eq/s mean an estimation of 28.111626409232255 kg.CO2eq/year\n"
     ]
    },
    {
     "name": "stdout",
     "output_type": "stream",
     "text": [
      "{'Accuracy': 0.9184663916525115, 'Precision': 0.9184773443513666, 'Recall': 0.9184663916525115, 'f1 Score': 0.9184406212550822}\n",
      "Inference Time: 351.4015 seconds\n",
      "CPU Usage: 19.00%\n",
      "RAM Usage: 105.64 MB\n",
      "Energy Consumption: 0.000313 kWh\n"
     ]
    }
   ],
   "source": [
    "# Evaluation\n",
    "import time\n",
    "import psutil\n",
    "from codecarbon import EmissionsTracker\n",
    "\n",
    "# Start tracking energy consumption\n",
    "tracker = EmissionsTracker()\n",
    "tracker.start()\n",
    "\n",
    "# Measure CPU and RAM usage before evaluation\n",
    "process = psutil.Process()\n",
    "cpu_before = psutil.cpu_percent(interval=None)\n",
    "ram_before = process.memory_info().rss / (1024 * 1024)  # Convert to MB\n",
    "\n",
    "# Measure inference time\n",
    "start_time = time.time()\n",
    "\n",
    "# Evaluation\n",
    "result = evaluate(model, tokenizer, prefix=global_step)\n",
    "\n",
    "# Measure inference time\n",
    "end_time = time.time()\n",
    "inference_time = end_time - start_time\n",
    "\n",
    "# Measure CPU and RAM usage after evaluation\n",
    "cpu_after = psutil.cpu_percent(interval=None)\n",
    "ram_after = process.memory_info().rss / (1024 * 1024)  # Convert to MB\n",
    "\n",
    "# Calculate differences\n",
    "cpu_usage = cpu_after - cpu_before\n",
    "ram_usage = ram_after - ram_before\n",
    "\n",
    "# Stop energy tracking\n",
    "emissions = tracker.stop()\n",
    "\n",
    "# Print results\n",
    "print(result)\n",
    "print(f\"Inference Time: {inference_time:.4f} seconds\")\n",
    "print(f\"CPU Usage: {cpu_usage:.2f}%\")\n",
    "print(f\"RAM Usage: {ram_usage:.2f} MB\")\n",
    "print(f\"Energy Consumption: {emissions:.6f} kWh\")"
   ]
  },
  {
   "cell_type": "code",
   "execution_count": null,
   "metadata": {
    "id": "2RwuIGFk4_ky"
   },
   "outputs": [],
   "source": []
  },
  {
   "cell_type": "code",
   "execution_count": null,
   "metadata": {
    "id": "p6Tgzbr04_nQ"
   },
   "outputs": [],
   "source": []
  }
 ],
 "metadata": {
  "accelerator": "GPU",
  "colab": {
   "collapsed_sections": [],
   "name": "8. RoBERTa.ipynb",
   "provenance": [
    {
     "file_id": "1dLIJOZ9Ar0G88j2Sreqg5nokTNm0UAyM",
     "timestamp": 1608768028418
    }
   ]
  },
  "kernelspec": {
   "display_name": "Python 3 (ipykernel)",
   "language": "python",
   "name": "python3"
  },
  "language_info": {
   "codemirror_mode": {
    "name": "ipython",
    "version": 3
   },
   "file_extension": ".py",
   "mimetype": "text/x-python",
   "name": "python",
   "nbconvert_exporter": "python",
   "pygments_lexer": "ipython3",
   "version": "3.11.5"
  },
  "widgets": {
   "application/vnd.jupyter.widget-state+json": {
    "142219a840f3408d9b951aa884fa4362": {
     "model_module": "@jupyter-widgets/base",
     "model_name": "LayoutModel",
     "state": {
      "_model_module": "@jupyter-widgets/base",
      "_model_module_version": "1.2.0",
      "_model_name": "LayoutModel",
      "_view_count": null,
      "_view_module": "@jupyter-widgets/base",
      "_view_module_version": "1.2.0",
      "_view_name": "LayoutView",
      "align_content": null,
      "align_items": null,
      "align_self": null,
      "border": null,
      "bottom": null,
      "display": null,
      "flex": null,
      "flex_flow": null,
      "grid_area": null,
      "grid_auto_columns": null,
      "grid_auto_flow": null,
      "grid_auto_rows": null,
      "grid_column": null,
      "grid_gap": null,
      "grid_row": null,
      "grid_template_areas": null,
      "grid_template_columns": null,
      "grid_template_rows": null,
      "height": null,
      "justify_content": null,
      "justify_items": null,
      "left": null,
      "margin": null,
      "max_height": null,
      "max_width": null,
      "min_height": null,
      "min_width": null,
      "object_fit": null,
      "object_position": null,
      "order": null,
      "overflow": null,
      "overflow_x": null,
      "overflow_y": null,
      "padding": null,
      "right": null,
      "top": null,
      "visibility": null,
      "width": null
     }
    },
    "14fd1204a16d4c3692e57e2852041c2b": {
     "model_module": "@jupyter-widgets/controls",
     "model_name": "FloatProgressModel",
     "state": {
      "_dom_classes": [],
      "_model_module": "@jupyter-widgets/controls",
      "_model_module_version": "1.5.0",
      "_model_name": "FloatProgressModel",
      "_view_count": null,
      "_view_module": "@jupyter-widgets/controls",
      "_view_module_version": "1.5.0",
      "_view_name": "ProgressView",
      "bar_style": "success",
      "description": "Epoch: 100%",
      "description_tooltip": null,
      "layout": "IPY_MODEL_36db65bfa8214685b95ea2ea46b81bda",
      "max": 3,
      "min": 0,
      "orientation": "horizontal",
      "style": "IPY_MODEL_18ac3a6a121c4a18910759f5c69e22f1",
      "value": 3
     }
    },
    "18ac3a6a121c4a18910759f5c69e22f1": {
     "model_module": "@jupyter-widgets/controls",
     "model_name": "ProgressStyleModel",
     "state": {
      "_model_module": "@jupyter-widgets/controls",
      "_model_module_version": "1.5.0",
      "_model_name": "ProgressStyleModel",
      "_view_count": null,
      "_view_module": "@jupyter-widgets/base",
      "_view_module_version": "1.2.0",
      "_view_name": "StyleView",
      "bar_color": null,
      "description_width": "initial"
     }
    },
    "1acce1360fef474aa86b9abd11d6faab": {
     "model_module": "@jupyter-widgets/base",
     "model_name": "LayoutModel",
     "state": {
      "_model_module": "@jupyter-widgets/base",
      "_model_module_version": "1.2.0",
      "_model_name": "LayoutModel",
      "_view_count": null,
      "_view_module": "@jupyter-widgets/base",
      "_view_module_version": "1.2.0",
      "_view_name": "LayoutView",
      "align_content": null,
      "align_items": null,
      "align_self": null,
      "border": null,
      "bottom": null,
      "display": null,
      "flex": null,
      "flex_flow": null,
      "grid_area": null,
      "grid_auto_columns": null,
      "grid_auto_flow": null,
      "grid_auto_rows": null,
      "grid_column": null,
      "grid_gap": null,
      "grid_row": null,
      "grid_template_areas": null,
      "grid_template_columns": null,
      "grid_template_rows": null,
      "height": null,
      "justify_content": null,
      "justify_items": null,
      "left": null,
      "margin": null,
      "max_height": null,
      "max_width": null,
      "min_height": null,
      "min_width": null,
      "object_fit": null,
      "object_position": null,
      "order": null,
      "overflow": null,
      "overflow_x": null,
      "overflow_y": null,
      "padding": null,
      "right": null,
      "top": null,
      "visibility": null,
      "width": null
     }
    },
    "1cd501aa81f345d185b19a3f741e50d4": {
     "model_module": "@jupyter-widgets/controls",
     "model_name": "FloatProgressModel",
     "state": {
      "_dom_classes": [],
      "_model_module": "@jupyter-widgets/controls",
      "_model_module_version": "1.5.0",
      "_model_name": "FloatProgressModel",
      "_view_count": null,
      "_view_module": "@jupyter-widgets/controls",
      "_view_module_version": "1.5.0",
      "_view_name": "ProgressView",
      "bar_style": "success",
      "description": "Evaluating: 100%",
      "description_tooltip": null,
      "layout": "IPY_MODEL_368dd39a241b4903ae2a084be4697c7a",
      "max": 685,
      "min": 0,
      "orientation": "horizontal",
      "style": "IPY_MODEL_ca515671c27c4905834982fd360c6649",
      "value": 685
     }
    },
    "244e5d1e610e4e7180f83fa6e3ab8ab7": {
     "model_module": "@jupyter-widgets/controls",
     "model_name": "DescriptionStyleModel",
     "state": {
      "_model_module": "@jupyter-widgets/controls",
      "_model_module_version": "1.5.0",
      "_model_name": "DescriptionStyleModel",
      "_view_count": null,
      "_view_module": "@jupyter-widgets/base",
      "_view_module_version": "1.2.0",
      "_view_name": "StyleView",
      "description_width": ""
     }
    },
    "305cb5e80a6943e6a714908a088c0398": {
     "model_module": "@jupyter-widgets/base",
     "model_name": "LayoutModel",
     "state": {
      "_model_module": "@jupyter-widgets/base",
      "_model_module_version": "1.2.0",
      "_model_name": "LayoutModel",
      "_view_count": null,
      "_view_module": "@jupyter-widgets/base",
      "_view_module_version": "1.2.0",
      "_view_name": "LayoutView",
      "align_content": null,
      "align_items": null,
      "align_self": null,
      "border": null,
      "bottom": null,
      "display": null,
      "flex": null,
      "flex_flow": null,
      "grid_area": null,
      "grid_auto_columns": null,
      "grid_auto_flow": null,
      "grid_auto_rows": null,
      "grid_column": null,
      "grid_gap": null,
      "grid_row": null,
      "grid_template_areas": null,
      "grid_template_columns": null,
      "grid_template_rows": null,
      "height": null,
      "justify_content": null,
      "justify_items": null,
      "left": null,
      "margin": null,
      "max_height": null,
      "max_width": null,
      "min_height": null,
      "min_width": null,
      "object_fit": null,
      "object_position": null,
      "order": null,
      "overflow": null,
      "overflow_x": null,
      "overflow_y": null,
      "padding": null,
      "right": null,
      "top": null,
      "visibility": null,
      "width": null
     }
    },
    "368dd39a241b4903ae2a084be4697c7a": {
     "model_module": "@jupyter-widgets/base",
     "model_name": "LayoutModel",
     "state": {
      "_model_module": "@jupyter-widgets/base",
      "_model_module_version": "1.2.0",
      "_model_name": "LayoutModel",
      "_view_count": null,
      "_view_module": "@jupyter-widgets/base",
      "_view_module_version": "1.2.0",
      "_view_name": "LayoutView",
      "align_content": null,
      "align_items": null,
      "align_self": null,
      "border": null,
      "bottom": null,
      "display": null,
      "flex": null,
      "flex_flow": null,
      "grid_area": null,
      "grid_auto_columns": null,
      "grid_auto_flow": null,
      "grid_auto_rows": null,
      "grid_column": null,
      "grid_gap": null,
      "grid_row": null,
      "grid_template_areas": null,
      "grid_template_columns": null,
      "grid_template_rows": null,
      "height": null,
      "justify_content": null,
      "justify_items": null,
      "left": null,
      "margin": null,
      "max_height": null,
      "max_width": null,
      "min_height": null,
      "min_width": null,
      "object_fit": null,
      "object_position": null,
      "order": null,
      "overflow": null,
      "overflow_x": null,
      "overflow_y": null,
      "padding": null,
      "right": null,
      "top": null,
      "visibility": null,
      "width": null
     }
    },
    "36db65bfa8214685b95ea2ea46b81bda": {
     "model_module": "@jupyter-widgets/base",
     "model_name": "LayoutModel",
     "state": {
      "_model_module": "@jupyter-widgets/base",
      "_model_module_version": "1.2.0",
      "_model_name": "LayoutModel",
      "_view_count": null,
      "_view_module": "@jupyter-widgets/base",
      "_view_module_version": "1.2.0",
      "_view_name": "LayoutView",
      "align_content": null,
      "align_items": null,
      "align_self": null,
      "border": null,
      "bottom": null,
      "display": null,
      "flex": null,
      "flex_flow": null,
      "grid_area": null,
      "grid_auto_columns": null,
      "grid_auto_flow": null,
      "grid_auto_rows": null,
      "grid_column": null,
      "grid_gap": null,
      "grid_row": null,
      "grid_template_areas": null,
      "grid_template_columns": null,
      "grid_template_rows": null,
      "height": null,
      "justify_content": null,
      "justify_items": null,
      "left": null,
      "margin": null,
      "max_height": null,
      "max_width": null,
      "min_height": null,
      "min_width": null,
      "object_fit": null,
      "object_position": null,
      "order": null,
      "overflow": null,
      "overflow_x": null,
      "overflow_y": null,
      "padding": null,
      "right": null,
      "top": null,
      "visibility": null,
      "width": null
     }
    },
    "3a2ae730cb3d470ab40b96c8e4e67058": {
     "model_module": "@jupyter-widgets/controls",
     "model_name": "DescriptionStyleModel",
     "state": {
      "_model_module": "@jupyter-widgets/controls",
      "_model_module_version": "1.5.0",
      "_model_name": "DescriptionStyleModel",
      "_view_count": null,
      "_view_module": "@jupyter-widgets/base",
      "_view_module_version": "1.2.0",
      "_view_name": "StyleView",
      "description_width": ""
     }
    },
    "3f1bbd86cedd44d79d5b9bbb1f502bd4": {
     "model_module": "@jupyter-widgets/controls",
     "model_name": "ProgressStyleModel",
     "state": {
      "_model_module": "@jupyter-widgets/controls",
      "_model_module_version": "1.5.0",
      "_model_name": "ProgressStyleModel",
      "_view_count": null,
      "_view_module": "@jupyter-widgets/base",
      "_view_module_version": "1.2.0",
      "_view_name": "StyleView",
      "bar_color": null,
      "description_width": "initial"
     }
    },
    "43dd7167468747d9aac84ae9a003e42f": {
     "model_module": "@jupyter-widgets/controls",
     "model_name": "FloatProgressModel",
     "state": {
      "_dom_classes": [],
      "_model_module": "@jupyter-widgets/controls",
      "_model_module_version": "1.5.0",
      "_model_name": "FloatProgressModel",
      "_view_count": null,
      "_view_module": "@jupyter-widgets/controls",
      "_view_module_version": "1.5.0",
      "_view_name": "ProgressView",
      "bar_style": "success",
      "description": "Iteration: 100%",
      "description_tooltip": null,
      "layout": "IPY_MODEL_142219a840f3408d9b951aa884fa4362",
      "max": 2405,
      "min": 0,
      "orientation": "horizontal",
      "style": "IPY_MODEL_3f1bbd86cedd44d79d5b9bbb1f502bd4",
      "value": 2405
     }
    },
    "4f78a0941ba24435b1ad3f9de377fcd7": {
     "model_module": "@jupyter-widgets/base",
     "model_name": "LayoutModel",
     "state": {
      "_model_module": "@jupyter-widgets/base",
      "_model_module_version": "1.2.0",
      "_model_name": "LayoutModel",
      "_view_count": null,
      "_view_module": "@jupyter-widgets/base",
      "_view_module_version": "1.2.0",
      "_view_name": "LayoutView",
      "align_content": null,
      "align_items": null,
      "align_self": null,
      "border": null,
      "bottom": null,
      "display": null,
      "flex": null,
      "flex_flow": null,
      "grid_area": null,
      "grid_auto_columns": null,
      "grid_auto_flow": null,
      "grid_auto_rows": null,
      "grid_column": null,
      "grid_gap": null,
      "grid_row": null,
      "grid_template_areas": null,
      "grid_template_columns": null,
      "grid_template_rows": null,
      "height": null,
      "justify_content": null,
      "justify_items": null,
      "left": null,
      "margin": null,
      "max_height": null,
      "max_width": null,
      "min_height": null,
      "min_width": null,
      "object_fit": null,
      "object_position": null,
      "order": null,
      "overflow": null,
      "overflow_x": null,
      "overflow_y": null,
      "padding": null,
      "right": null,
      "top": null,
      "visibility": null,
      "width": null
     }
    },
    "500f8f5204db452f9ec05c1e392eeb00": {
     "model_module": "@jupyter-widgets/controls",
     "model_name": "HTMLModel",
     "state": {
      "_dom_classes": [],
      "_model_module": "@jupyter-widgets/controls",
      "_model_module_version": "1.5.0",
      "_model_name": "HTMLModel",
      "_view_count": null,
      "_view_module": "@jupyter-widgets/controls",
      "_view_module_version": "1.5.0",
      "_view_name": "HTMLView",
      "description": "",
      "description_tooltip": null,
      "layout": "IPY_MODEL_f9f7fb247b0a41a0b25eef76e8337cd8",
      "placeholder": "​",
      "style": "IPY_MODEL_d35c7207643f49dfa3b1f4fb6a81de81",
      "value": " 685/685 [00:40&lt;00:00, 16.86it/s]"
     }
    },
    "6117124ef56747cb9660a3b0a1320814": {
     "model_module": "@jupyter-widgets/controls",
     "model_name": "HTMLModel",
     "state": {
      "_dom_classes": [],
      "_model_module": "@jupyter-widgets/controls",
      "_model_module_version": "1.5.0",
      "_model_name": "HTMLModel",
      "_view_count": null,
      "_view_module": "@jupyter-widgets/controls",
      "_view_module_version": "1.5.0",
      "_view_name": "HTMLView",
      "description": "",
      "description_tooltip": null,
      "layout": "IPY_MODEL_e803ea8467d848888de63596f4ee1920",
      "placeholder": "​",
      "style": "IPY_MODEL_244e5d1e610e4e7180f83fa6e3ab8ab7",
      "value": " 3/3 [12:23&lt;00:00, 248.00s/it]"
     }
    },
    "638ece11c7014635a228491add1be51d": {
     "model_module": "@jupyter-widgets/base",
     "model_name": "LayoutModel",
     "state": {
      "_model_module": "@jupyter-widgets/base",
      "_model_module_version": "1.2.0",
      "_model_name": "LayoutModel",
      "_view_count": null,
      "_view_module": "@jupyter-widgets/base",
      "_view_module_version": "1.2.0",
      "_view_name": "LayoutView",
      "align_content": null,
      "align_items": null,
      "align_self": null,
      "border": null,
      "bottom": null,
      "display": null,
      "flex": null,
      "flex_flow": null,
      "grid_area": null,
      "grid_auto_columns": null,
      "grid_auto_flow": null,
      "grid_auto_rows": null,
      "grid_column": null,
      "grid_gap": null,
      "grid_row": null,
      "grid_template_areas": null,
      "grid_template_columns": null,
      "grid_template_rows": null,
      "height": null,
      "justify_content": null,
      "justify_items": null,
      "left": null,
      "margin": null,
      "max_height": null,
      "max_width": null,
      "min_height": null,
      "min_width": null,
      "object_fit": null,
      "object_position": null,
      "order": null,
      "overflow": null,
      "overflow_x": null,
      "overflow_y": null,
      "padding": null,
      "right": null,
      "top": null,
      "visibility": null,
      "width": null
     }
    },
    "6ec0c4d438e34833979e9caa837ba5a7": {
     "model_module": "@jupyter-widgets/base",
     "model_name": "LayoutModel",
     "state": {
      "_model_module": "@jupyter-widgets/base",
      "_model_module_version": "1.2.0",
      "_model_name": "LayoutModel",
      "_view_count": null,
      "_view_module": "@jupyter-widgets/base",
      "_view_module_version": "1.2.0",
      "_view_name": "LayoutView",
      "align_content": null,
      "align_items": null,
      "align_self": null,
      "border": null,
      "bottom": null,
      "display": null,
      "flex": null,
      "flex_flow": null,
      "grid_area": null,
      "grid_auto_columns": null,
      "grid_auto_flow": null,
      "grid_auto_rows": null,
      "grid_column": null,
      "grid_gap": null,
      "grid_row": null,
      "grid_template_areas": null,
      "grid_template_columns": null,
      "grid_template_rows": null,
      "height": null,
      "justify_content": null,
      "justify_items": null,
      "left": null,
      "margin": null,
      "max_height": null,
      "max_width": null,
      "min_height": null,
      "min_width": null,
      "object_fit": null,
      "object_position": null,
      "order": null,
      "overflow": null,
      "overflow_x": null,
      "overflow_y": null,
      "padding": null,
      "right": null,
      "top": null,
      "visibility": null,
      "width": null
     }
    },
    "738d1f6643bb4d0784fc279254b24134": {
     "model_module": "@jupyter-widgets/base",
     "model_name": "LayoutModel",
     "state": {
      "_model_module": "@jupyter-widgets/base",
      "_model_module_version": "1.2.0",
      "_model_name": "LayoutModel",
      "_view_count": null,
      "_view_module": "@jupyter-widgets/base",
      "_view_module_version": "1.2.0",
      "_view_name": "LayoutView",
      "align_content": null,
      "align_items": null,
      "align_self": null,
      "border": null,
      "bottom": null,
      "display": null,
      "flex": null,
      "flex_flow": null,
      "grid_area": null,
      "grid_auto_columns": null,
      "grid_auto_flow": null,
      "grid_auto_rows": null,
      "grid_column": null,
      "grid_gap": null,
      "grid_row": null,
      "grid_template_areas": null,
      "grid_template_columns": null,
      "grid_template_rows": null,
      "height": null,
      "justify_content": null,
      "justify_items": null,
      "left": null,
      "margin": null,
      "max_height": null,
      "max_width": null,
      "min_height": null,
      "min_width": null,
      "object_fit": null,
      "object_position": null,
      "order": null,
      "overflow": null,
      "overflow_x": null,
      "overflow_y": null,
      "padding": null,
      "right": null,
      "top": null,
      "visibility": null,
      "width": null
     }
    },
    "82b8beb2e5284052846d9e1a554b65e2": {
     "model_module": "@jupyter-widgets/base",
     "model_name": "LayoutModel",
     "state": {
      "_model_module": "@jupyter-widgets/base",
      "_model_module_version": "1.2.0",
      "_model_name": "LayoutModel",
      "_view_count": null,
      "_view_module": "@jupyter-widgets/base",
      "_view_module_version": "1.2.0",
      "_view_name": "LayoutView",
      "align_content": null,
      "align_items": null,
      "align_self": null,
      "border": null,
      "bottom": null,
      "display": null,
      "flex": null,
      "flex_flow": null,
      "grid_area": null,
      "grid_auto_columns": null,
      "grid_auto_flow": null,
      "grid_auto_rows": null,
      "grid_column": null,
      "grid_gap": null,
      "grid_row": null,
      "grid_template_areas": null,
      "grid_template_columns": null,
      "grid_template_rows": null,
      "height": null,
      "justify_content": null,
      "justify_items": null,
      "left": null,
      "margin": null,
      "max_height": null,
      "max_width": null,
      "min_height": null,
      "min_width": null,
      "object_fit": null,
      "object_position": null,
      "order": null,
      "overflow": null,
      "overflow_x": null,
      "overflow_y": null,
      "padding": null,
      "right": null,
      "top": null,
      "visibility": null,
      "width": null
     }
    },
    "853d9a7b580a474aafa0941123ff863b": {
     "model_module": "@jupyter-widgets/controls",
     "model_name": "ProgressStyleModel",
     "state": {
      "_model_module": "@jupyter-widgets/controls",
      "_model_module_version": "1.5.0",
      "_model_name": "ProgressStyleModel",
      "_view_count": null,
      "_view_module": "@jupyter-widgets/base",
      "_view_module_version": "1.2.0",
      "_view_name": "StyleView",
      "bar_color": null,
      "description_width": "initial"
     }
    },
    "866d76086148468f8409464495f5b65e": {
     "model_module": "@jupyter-widgets/controls",
     "model_name": "HTMLModel",
     "state": {
      "_dom_classes": [],
      "_model_module": "@jupyter-widgets/controls",
      "_model_module_version": "1.5.0",
      "_model_name": "HTMLModel",
      "_view_count": null,
      "_view_module": "@jupyter-widgets/controls",
      "_view_module_version": "1.5.0",
      "_view_name": "HTMLView",
      "description": "",
      "description_tooltip": null,
      "layout": "IPY_MODEL_305cb5e80a6943e6a714908a088c0398",
      "placeholder": "​",
      "style": "IPY_MODEL_aff54d05e66d4eddb83fec133c002263",
      "value": " 2405/2405 [09:09&lt;00:00,  4.38it/s]"
     }
    },
    "91a9349ed14b49cea0bd1d2762dfa7cf": {
     "model_module": "@jupyter-widgets/controls",
     "model_name": "HTMLModel",
     "state": {
      "_dom_classes": [],
      "_model_module": "@jupyter-widgets/controls",
      "_model_module_version": "1.5.0",
      "_model_name": "HTMLModel",
      "_view_count": null,
      "_view_module": "@jupyter-widgets/controls",
      "_view_module_version": "1.5.0",
      "_view_name": "HTMLView",
      "description": "",
      "description_tooltip": null,
      "layout": "IPY_MODEL_638ece11c7014635a228491add1be51d",
      "placeholder": "​",
      "style": "IPY_MODEL_b75ec03a81894ce6a13e232ad16222ab",
      "value": " 2405/2405 [05:54&lt;00:00,  6.79it/s]"
     }
    },
    "a125e2c861bf40f88ec5448bb0ac14a4": {
     "model_module": "@jupyter-widgets/controls",
     "model_name": "ProgressStyleModel",
     "state": {
      "_model_module": "@jupyter-widgets/controls",
      "_model_module_version": "1.5.0",
      "_model_name": "ProgressStyleModel",
      "_view_count": null,
      "_view_module": "@jupyter-widgets/base",
      "_view_module_version": "1.2.0",
      "_view_name": "StyleView",
      "bar_color": null,
      "description_width": "initial"
     }
    },
    "aa163f956a7a48669f70ebbc50912fa9": {
     "model_module": "@jupyter-widgets/base",
     "model_name": "LayoutModel",
     "state": {
      "_model_module": "@jupyter-widgets/base",
      "_model_module_version": "1.2.0",
      "_model_name": "LayoutModel",
      "_view_count": null,
      "_view_module": "@jupyter-widgets/base",
      "_view_module_version": "1.2.0",
      "_view_name": "LayoutView",
      "align_content": null,
      "align_items": null,
      "align_self": null,
      "border": null,
      "bottom": null,
      "display": null,
      "flex": null,
      "flex_flow": null,
      "grid_area": null,
      "grid_auto_columns": null,
      "grid_auto_flow": null,
      "grid_auto_rows": null,
      "grid_column": null,
      "grid_gap": null,
      "grid_row": null,
      "grid_template_areas": null,
      "grid_template_columns": null,
      "grid_template_rows": null,
      "height": null,
      "justify_content": null,
      "justify_items": null,
      "left": null,
      "margin": null,
      "max_height": null,
      "max_width": null,
      "min_height": null,
      "min_width": null,
      "object_fit": null,
      "object_position": null,
      "order": null,
      "overflow": null,
      "overflow_x": null,
      "overflow_y": null,
      "padding": null,
      "right": null,
      "top": null,
      "visibility": null,
      "width": null
     }
    },
    "aa165c4c8d4a4bdba30d669f59906d15": {
     "model_module": "@jupyter-widgets/controls",
     "model_name": "HBoxModel",
     "state": {
      "_dom_classes": [],
      "_model_module": "@jupyter-widgets/controls",
      "_model_module_version": "1.5.0",
      "_model_name": "HBoxModel",
      "_view_count": null,
      "_view_module": "@jupyter-widgets/controls",
      "_view_module_version": "1.5.0",
      "_view_name": "HBoxView",
      "box_style": "",
      "children": [
       "IPY_MODEL_14fd1204a16d4c3692e57e2852041c2b",
       "IPY_MODEL_6117124ef56747cb9660a3b0a1320814"
      ],
      "layout": "IPY_MODEL_6ec0c4d438e34833979e9caa837ba5a7"
     }
    },
    "aff54d05e66d4eddb83fec133c002263": {
     "model_module": "@jupyter-widgets/controls",
     "model_name": "DescriptionStyleModel",
     "state": {
      "_model_module": "@jupyter-widgets/controls",
      "_model_module_version": "1.5.0",
      "_model_name": "DescriptionStyleModel",
      "_view_count": null,
      "_view_module": "@jupyter-widgets/base",
      "_view_module_version": "1.2.0",
      "_view_name": "StyleView",
      "description_width": ""
     }
    },
    "b75ec03a81894ce6a13e232ad16222ab": {
     "model_module": "@jupyter-widgets/controls",
     "model_name": "DescriptionStyleModel",
     "state": {
      "_model_module": "@jupyter-widgets/controls",
      "_model_module_version": "1.5.0",
      "_model_name": "DescriptionStyleModel",
      "_view_count": null,
      "_view_module": "@jupyter-widgets/base",
      "_view_module_version": "1.2.0",
      "_view_name": "StyleView",
      "description_width": ""
     }
    },
    "c980297feeca4330a7ec8cd7b3611d63": {
     "model_module": "@jupyter-widgets/controls",
     "model_name": "HBoxModel",
     "state": {
      "_dom_classes": [],
      "_model_module": "@jupyter-widgets/controls",
      "_model_module_version": "1.5.0",
      "_model_name": "HBoxModel",
      "_view_count": null,
      "_view_module": "@jupyter-widgets/controls",
      "_view_module_version": "1.5.0",
      "_view_name": "HBoxView",
      "box_style": "",
      "children": [
       "IPY_MODEL_43dd7167468747d9aac84ae9a003e42f",
       "IPY_MODEL_91a9349ed14b49cea0bd1d2762dfa7cf"
      ],
      "layout": "IPY_MODEL_738d1f6643bb4d0784fc279254b24134"
     }
    },
    "ca3c971fe77d454eaf3179146487dc44": {
     "model_module": "@jupyter-widgets/controls",
     "model_name": "HBoxModel",
     "state": {
      "_dom_classes": [],
      "_model_module": "@jupyter-widgets/controls",
      "_model_module_version": "1.5.0",
      "_model_name": "HBoxModel",
      "_view_count": null,
      "_view_module": "@jupyter-widgets/controls",
      "_view_module_version": "1.5.0",
      "_view_name": "HBoxView",
      "box_style": "",
      "children": [
       "IPY_MODEL_cd664e45c6b24bc791ab4c063dd97b01",
       "IPY_MODEL_866d76086148468f8409464495f5b65e"
      ],
      "layout": "IPY_MODEL_82b8beb2e5284052846d9e1a554b65e2"
     }
    },
    "ca515671c27c4905834982fd360c6649": {
     "model_module": "@jupyter-widgets/controls",
     "model_name": "ProgressStyleModel",
     "state": {
      "_model_module": "@jupyter-widgets/controls",
      "_model_module_version": "1.5.0",
      "_model_name": "ProgressStyleModel",
      "_view_count": null,
      "_view_module": "@jupyter-widgets/base",
      "_view_module_version": "1.2.0",
      "_view_name": "StyleView",
      "bar_color": null,
      "description_width": "initial"
     }
    },
    "cd664e45c6b24bc791ab4c063dd97b01": {
     "model_module": "@jupyter-widgets/controls",
     "model_name": "FloatProgressModel",
     "state": {
      "_dom_classes": [],
      "_model_module": "@jupyter-widgets/controls",
      "_model_module_version": "1.5.0",
      "_model_name": "FloatProgressModel",
      "_view_count": null,
      "_view_module": "@jupyter-widgets/controls",
      "_view_module_version": "1.5.0",
      "_view_name": "ProgressView",
      "bar_style": "success",
      "description": "Iteration: 100%",
      "description_tooltip": null,
      "layout": "IPY_MODEL_aa163f956a7a48669f70ebbc50912fa9",
      "max": 2405,
      "min": 0,
      "orientation": "horizontal",
      "style": "IPY_MODEL_a125e2c861bf40f88ec5448bb0ac14a4",
      "value": 2405
     }
    },
    "d35c7207643f49dfa3b1f4fb6a81de81": {
     "model_module": "@jupyter-widgets/controls",
     "model_name": "DescriptionStyleModel",
     "state": {
      "_model_module": "@jupyter-widgets/controls",
      "_model_module_version": "1.5.0",
      "_model_name": "DescriptionStyleModel",
      "_view_count": null,
      "_view_module": "@jupyter-widgets/base",
      "_view_module_version": "1.2.0",
      "_view_name": "StyleView",
      "description_width": ""
     }
    },
    "dc452a3c7a0842309e44f5a32c1b82bd": {
     "model_module": "@jupyter-widgets/controls",
     "model_name": "HBoxModel",
     "state": {
      "_dom_classes": [],
      "_model_module": "@jupyter-widgets/controls",
      "_model_module_version": "1.5.0",
      "_model_name": "HBoxModel",
      "_view_count": null,
      "_view_module": "@jupyter-widgets/controls",
      "_view_module_version": "1.5.0",
      "_view_name": "HBoxView",
      "box_style": "",
      "children": [
       "IPY_MODEL_e8a92849a76642a7ab2b186ae0df4ae7",
       "IPY_MODEL_eaa7ef95bed7416aa97237bcff09b7af"
      ],
      "layout": "IPY_MODEL_e8412f4d3b8e46ab81d4f301157f00be"
     }
    },
    "dfcc3e8bb29142aaaf0cf2a9d4ecce92": {
     "model_module": "@jupyter-widgets/controls",
     "model_name": "HBoxModel",
     "state": {
      "_dom_classes": [],
      "_model_module": "@jupyter-widgets/controls",
      "_model_module_version": "1.5.0",
      "_model_name": "HBoxModel",
      "_view_count": null,
      "_view_module": "@jupyter-widgets/controls",
      "_view_module_version": "1.5.0",
      "_view_name": "HBoxView",
      "box_style": "",
      "children": [
       "IPY_MODEL_1cd501aa81f345d185b19a3f741e50d4",
       "IPY_MODEL_500f8f5204db452f9ec05c1e392eeb00"
      ],
      "layout": "IPY_MODEL_1acce1360fef474aa86b9abd11d6faab"
     }
    },
    "e803ea8467d848888de63596f4ee1920": {
     "model_module": "@jupyter-widgets/base",
     "model_name": "LayoutModel",
     "state": {
      "_model_module": "@jupyter-widgets/base",
      "_model_module_version": "1.2.0",
      "_model_name": "LayoutModel",
      "_view_count": null,
      "_view_module": "@jupyter-widgets/base",
      "_view_module_version": "1.2.0",
      "_view_name": "LayoutView",
      "align_content": null,
      "align_items": null,
      "align_self": null,
      "border": null,
      "bottom": null,
      "display": null,
      "flex": null,
      "flex_flow": null,
      "grid_area": null,
      "grid_auto_columns": null,
      "grid_auto_flow": null,
      "grid_auto_rows": null,
      "grid_column": null,
      "grid_gap": null,
      "grid_row": null,
      "grid_template_areas": null,
      "grid_template_columns": null,
      "grid_template_rows": null,
      "height": null,
      "justify_content": null,
      "justify_items": null,
      "left": null,
      "margin": null,
      "max_height": null,
      "max_width": null,
      "min_height": null,
      "min_width": null,
      "object_fit": null,
      "object_position": null,
      "order": null,
      "overflow": null,
      "overflow_x": null,
      "overflow_y": null,
      "padding": null,
      "right": null,
      "top": null,
      "visibility": null,
      "width": null
     }
    },
    "e8412f4d3b8e46ab81d4f301157f00be": {
     "model_module": "@jupyter-widgets/base",
     "model_name": "LayoutModel",
     "state": {
      "_model_module": "@jupyter-widgets/base",
      "_model_module_version": "1.2.0",
      "_model_name": "LayoutModel",
      "_view_count": null,
      "_view_module": "@jupyter-widgets/base",
      "_view_module_version": "1.2.0",
      "_view_name": "LayoutView",
      "align_content": null,
      "align_items": null,
      "align_self": null,
      "border": null,
      "bottom": null,
      "display": null,
      "flex": null,
      "flex_flow": null,
      "grid_area": null,
      "grid_auto_columns": null,
      "grid_auto_flow": null,
      "grid_auto_rows": null,
      "grid_column": null,
      "grid_gap": null,
      "grid_row": null,
      "grid_template_areas": null,
      "grid_template_columns": null,
      "grid_template_rows": null,
      "height": null,
      "justify_content": null,
      "justify_items": null,
      "left": null,
      "margin": null,
      "max_height": null,
      "max_width": null,
      "min_height": null,
      "min_width": null,
      "object_fit": null,
      "object_position": null,
      "order": null,
      "overflow": null,
      "overflow_x": null,
      "overflow_y": null,
      "padding": null,
      "right": null,
      "top": null,
      "visibility": null,
      "width": null
     }
    },
    "e8a92849a76642a7ab2b186ae0df4ae7": {
     "model_module": "@jupyter-widgets/controls",
     "model_name": "FloatProgressModel",
     "state": {
      "_dom_classes": [],
      "_model_module": "@jupyter-widgets/controls",
      "_model_module_version": "1.5.0",
      "_model_name": "FloatProgressModel",
      "_view_count": null,
      "_view_module": "@jupyter-widgets/controls",
      "_view_module_version": "1.5.0",
      "_view_name": "ProgressView",
      "bar_style": "success",
      "description": "Iteration: 100%",
      "description_tooltip": null,
      "layout": "IPY_MODEL_4f78a0941ba24435b1ad3f9de377fcd7",
      "max": 2405,
      "min": 0,
      "orientation": "horizontal",
      "style": "IPY_MODEL_853d9a7b580a474aafa0941123ff863b",
      "value": 2405
     }
    },
    "eaa7ef95bed7416aa97237bcff09b7af": {
     "model_module": "@jupyter-widgets/controls",
     "model_name": "HTMLModel",
     "state": {
      "_dom_classes": [],
      "_model_module": "@jupyter-widgets/controls",
      "_model_module_version": "1.5.0",
      "_model_name": "HTMLModel",
      "_view_count": null,
      "_view_module": "@jupyter-widgets/controls",
      "_view_module_version": "1.5.0",
      "_view_name": "HTMLView",
      "description": "",
      "description_tooltip": null,
      "layout": "IPY_MODEL_ead4e7718c7a497bb0bc54fe8e19ae35",
      "placeholder": "​",
      "style": "IPY_MODEL_3a2ae730cb3d470ab40b96c8e4e67058",
      "value": " 2405/2405 [12:23&lt;00:00,  3.23it/s]"
     }
    },
    "ead4e7718c7a497bb0bc54fe8e19ae35": {
     "model_module": "@jupyter-widgets/base",
     "model_name": "LayoutModel",
     "state": {
      "_model_module": "@jupyter-widgets/base",
      "_model_module_version": "1.2.0",
      "_model_name": "LayoutModel",
      "_view_count": null,
      "_view_module": "@jupyter-widgets/base",
      "_view_module_version": "1.2.0",
      "_view_name": "LayoutView",
      "align_content": null,
      "align_items": null,
      "align_self": null,
      "border": null,
      "bottom": null,
      "display": null,
      "flex": null,
      "flex_flow": null,
      "grid_area": null,
      "grid_auto_columns": null,
      "grid_auto_flow": null,
      "grid_auto_rows": null,
      "grid_column": null,
      "grid_gap": null,
      "grid_row": null,
      "grid_template_areas": null,
      "grid_template_columns": null,
      "grid_template_rows": null,
      "height": null,
      "justify_content": null,
      "justify_items": null,
      "left": null,
      "margin": null,
      "max_height": null,
      "max_width": null,
      "min_height": null,
      "min_width": null,
      "object_fit": null,
      "object_position": null,
      "order": null,
      "overflow": null,
      "overflow_x": null,
      "overflow_y": null,
      "padding": null,
      "right": null,
      "top": null,
      "visibility": null,
      "width": null
     }
    },
    "f9f7fb247b0a41a0b25eef76e8337cd8": {
     "model_module": "@jupyter-widgets/base",
     "model_name": "LayoutModel",
     "state": {
      "_model_module": "@jupyter-widgets/base",
      "_model_module_version": "1.2.0",
      "_model_name": "LayoutModel",
      "_view_count": null,
      "_view_module": "@jupyter-widgets/base",
      "_view_module_version": "1.2.0",
      "_view_name": "LayoutView",
      "align_content": null,
      "align_items": null,
      "align_self": null,
      "border": null,
      "bottom": null,
      "display": null,
      "flex": null,
      "flex_flow": null,
      "grid_area": null,
      "grid_auto_columns": null,
      "grid_auto_flow": null,
      "grid_auto_rows": null,
      "grid_column": null,
      "grid_gap": null,
      "grid_row": null,
      "grid_template_areas": null,
      "grid_template_columns": null,
      "grid_template_rows": null,
      "height": null,
      "justify_content": null,
      "justify_items": null,
      "left": null,
      "margin": null,
      "max_height": null,
      "max_width": null,
      "min_height": null,
      "min_width": null,
      "object_fit": null,
      "object_position": null,
      "order": null,
      "overflow": null,
      "overflow_x": null,
      "overflow_y": null,
      "padding": null,
      "right": null,
      "top": null,
      "visibility": null,
      "width": null
     }
    }
   }
  }
 },
 "nbformat": 4,
 "nbformat_minor": 4
}
